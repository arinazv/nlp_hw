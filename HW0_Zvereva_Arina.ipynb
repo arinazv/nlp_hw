{
 "cells": [
  {
   "cell_type": "markdown",
   "metadata": {
    "id": "P8tDK5A9OCM7"
   },
   "source": [
    "## Домашняя работа №1 Part1\n",
    "Вам предстоит:\n",
    "\n",
    "Написать персептрон с двумя слоями. Реализовать форвард и бэквард пропогейшен\n",
    "\n"
   ]
  },
  {
   "cell_type": "code",
   "execution_count": 1,
   "metadata": {
    "id": "c5IbKpsMN_F1"
   },
   "outputs": [],
   "source": [
    "import numpy as np\n",
    "from sklearn.metrics import classification_report\n",
    "import torch\n",
    "from torch.utils.data import DataLoader\n",
    "from torchvision.datasets import MNIST\n",
    "from torchvision import transforms\n",
    "import matplotlib.pyplot as plt\n",
    "from tqdm import tqdm\n",
    "from sklearn.metrics import accuracy_score\n",
    "import time"
   ]
  },
  {
   "cell_type": "markdown",
   "metadata": {
    "id": "zQRYevLNN_GA"
   },
   "source": [
    "# Датасет\n",
    "Загрузим Мнист. Почему именно он? Мы будем решать задачу бинарной классификации на паре цифр: 3 и 7. Плюсы в том, что примеров для этих чисел достаточно, чтобы обучить НС, у каждого примера не так много фичей (28Х28 - размерность картинок) и, в целом, эти классы хорошо отделяются. Я б с радостью показал вам пример с текстами, но если писать НС с нуля и пытаться обучаться на текстах, не факт, что у нас хоть что то обучится :(  \n",
    "  "
   ]
  },
  {
   "cell_type": "markdown",
   "metadata": {
    "id": "EtMN4ZlSN_GC"
   },
   "source": [
    "Торч - объект, который позволяет нормализовать картинки, можно думать о нем как о предобработке (регулярках) для текстов. В целом не стоит здесь долго думать"
   ]
  },
  {
   "cell_type": "code",
   "execution_count": 2,
   "metadata": {
    "id": "BMugicmkN_GE"
   },
   "outputs": [],
   "source": [
    "transform = transforms.Compose([\n",
    "    transforms.ToTensor(),\n",
    "    transforms.Normalize((0.1307,), (0.3081,))\n",
    "])"
   ]
  },
  {
   "cell_type": "markdown",
   "metadata": {
    "id": "actIVoMKN_GJ"
   },
   "source": [
    "Загружаем датасет. Возращается особенный торчовый класс, чуть ниже мы зададим его сами и научимся им полльзоваться, пока оставляем эз из.\n"
   ]
  },
  {
   "cell_type": "code",
   "execution_count": 3,
   "metadata": {
    "colab": {
     "base_uri": "https://localhost:8080/",
     "height": 255
    },
    "id": "fQpJqIWrN_GK",
    "outputId": "2ed59df6-e5df-4487-dc74-74950632d80c"
   },
   "outputs": [],
   "source": [
    "train_dataset = MNIST('.', train=True, download=True, transform=transform)\n",
    "test_dataset = MNIST('.', train=False, transform=transform)"
   ]
  },
  {
   "cell_type": "markdown",
   "metadata": {
    "id": "aUSUIJbUN_GQ"
   },
   "source": [
    "Выбираем два класса. Если вы достаточно хорошо знакомы с пандас, то можно понять, что никакой магии здесь нет."
   ]
  },
  {
   "cell_type": "code",
   "execution_count": 4,
   "metadata": {
    "id": "vx73oHg9N_GS"
   },
   "outputs": [],
   "source": [
    "#фильтруем фичи (дата) по значению классификационных лэйблов (таргет), берем или цифру 3 или цифру 7\n",
    "train_dataset.data = train_dataset.data[(train_dataset.targets == 3) | (train_dataset.targets == 7)]\n",
    "train_dataset.targets = train_dataset.targets[(train_dataset.targets == 3) | (train_dataset.targets == 7)]\n",
    "#тоже самое для тестового набора\n",
    "test_dataset.data = test_dataset.data[(test_dataset.targets == 3) | (test_dataset.targets == 7)]\n",
    "test_dataset.targets = test_dataset.targets[(test_dataset.targets == 3) | (test_dataset.targets == 7)]\n",
    "#необходимы препроцессинг лейблов, видимо не все значения имею тип integer, а нам нужен именно этот тип функция лонг позволяет нам \n",
    "#        это сделать (self.long() is equivalent to self.to(torch.int64). See to())\n",
    "train_dataset.targets = (train_dataset.targets == 7).long()\n",
    "test_dataset.targets = (test_dataset.targets == 7).long()"
   ]
  },
  {
   "cell_type": "markdown",
   "metadata": {
    "id": "RHelnPG0N_GX"
   },
   "source": [
    "Мы неоднократно говорили, что НС обычно тренируются бачами, в торче есть удобный класс, который позволяет обернуть наши датасеты в итерируемый объект. Если не знаете что такое итерируемый объект, погуглите :) можно думать об этом как о списке с составными элементами (элемент - батч - набор примеров) "
   ]
  },
  {
   "cell_type": "code",
   "execution_count": 5,
   "metadata": {
    "id": "ENLomAueN_GZ"
   },
   "outputs": [],
   "source": [
    "train_loader = DataLoader(train_dataset, batch_size=128, shuffle=True)\n",
    "test_loader = DataLoader(test_dataset, batch_size=128, shuffle=False)"
   ]
  },
  {
   "cell_type": "code",
   "execution_count": 6,
   "metadata": {
    "colab": {
     "base_uri": "https://localhost:8080/",
     "height": 952
    },
    "id": "rdvq5scBXtWY",
    "outputId": "b3ea3409-955b-433a-ac9e-084b117dbcc7"
   },
   "outputs": [
    {
     "data": {
      "text/plain": [
       "tensor([[[[-0.4242, -0.4242, -0.4242,  ..., -0.4242, -0.4242, -0.4242],\n",
       "          [-0.4242, -0.4242, -0.4242,  ..., -0.4242, -0.4242, -0.4242],\n",
       "          [-0.4242, -0.4242, -0.4242,  ..., -0.4242, -0.4242, -0.4242],\n",
       "          ...,\n",
       "          [-0.4242, -0.4242, -0.4242,  ..., -0.4242, -0.4242, -0.4242],\n",
       "          [-0.4242, -0.4242, -0.4242,  ..., -0.4242, -0.4242, -0.4242],\n",
       "          [-0.4242, -0.4242, -0.4242,  ..., -0.4242, -0.4242, -0.4242]]],\n",
       "\n",
       "\n",
       "        [[[-0.4242, -0.4242, -0.4242,  ..., -0.4242, -0.4242, -0.4242],\n",
       "          [-0.4242, -0.4242, -0.4242,  ..., -0.4242, -0.4242, -0.4242],\n",
       "          [-0.4242, -0.4242, -0.4242,  ..., -0.4242, -0.4242, -0.4242],\n",
       "          ...,\n",
       "          [-0.4242, -0.4242, -0.4242,  ..., -0.4242, -0.4242, -0.4242],\n",
       "          [-0.4242, -0.4242, -0.4242,  ..., -0.4242, -0.4242, -0.4242],\n",
       "          [-0.4242, -0.4242, -0.4242,  ..., -0.4242, -0.4242, -0.4242]]],\n",
       "\n",
       "\n",
       "        [[[-0.4242, -0.4242, -0.4242,  ..., -0.4242, -0.4242, -0.4242],\n",
       "          [-0.4242, -0.4242, -0.4242,  ..., -0.4242, -0.4242, -0.4242],\n",
       "          [-0.4242, -0.4242, -0.4242,  ..., -0.4242, -0.4242, -0.4242],\n",
       "          ...,\n",
       "          [-0.4242, -0.4242, -0.4242,  ..., -0.4242, -0.4242, -0.4242],\n",
       "          [-0.4242, -0.4242, -0.4242,  ..., -0.4242, -0.4242, -0.4242],\n",
       "          [-0.4242, -0.4242, -0.4242,  ..., -0.4242, -0.4242, -0.4242]]],\n",
       "\n",
       "\n",
       "        ...,\n",
       "\n",
       "\n",
       "        [[[-0.4242, -0.4242, -0.4242,  ..., -0.4242, -0.4242, -0.4242],\n",
       "          [-0.4242, -0.4242, -0.4242,  ..., -0.4242, -0.4242, -0.4242],\n",
       "          [-0.4242, -0.4242, -0.4242,  ..., -0.4242, -0.4242, -0.4242],\n",
       "          ...,\n",
       "          [-0.4242, -0.4242, -0.4242,  ..., -0.4242, -0.4242, -0.4242],\n",
       "          [-0.4242, -0.4242, -0.4242,  ..., -0.4242, -0.4242, -0.4242],\n",
       "          [-0.4242, -0.4242, -0.4242,  ..., -0.4242, -0.4242, -0.4242]]],\n",
       "\n",
       "\n",
       "        [[[-0.4242, -0.4242, -0.4242,  ..., -0.4242, -0.4242, -0.4242],\n",
       "          [-0.4242, -0.4242, -0.4242,  ..., -0.4242, -0.4242, -0.4242],\n",
       "          [-0.4242, -0.4242, -0.4242,  ..., -0.4242, -0.4242, -0.4242],\n",
       "          ...,\n",
       "          [-0.4242, -0.4242, -0.4242,  ..., -0.4242, -0.4242, -0.4242],\n",
       "          [-0.4242, -0.4242, -0.4242,  ..., -0.4242, -0.4242, -0.4242],\n",
       "          [-0.4242, -0.4242, -0.4242,  ..., -0.4242, -0.4242, -0.4242]]],\n",
       "\n",
       "\n",
       "        [[[-0.4242, -0.4242, -0.4242,  ..., -0.4242, -0.4242, -0.4242],\n",
       "          [-0.4242, -0.4242, -0.4242,  ..., -0.4242, -0.4242, -0.4242],\n",
       "          [-0.4242, -0.4242, -0.4242,  ..., -0.4242, -0.4242, -0.4242],\n",
       "          ...,\n",
       "          [-0.4242, -0.4242, -0.4242,  ..., -0.4242, -0.4242, -0.4242],\n",
       "          [-0.4242, -0.4242, -0.4242,  ..., -0.4242, -0.4242, -0.4242],\n",
       "          [-0.4242, -0.4242, -0.4242,  ..., -0.4242, -0.4242, -0.4242]]]])"
      ]
     },
     "execution_count": 6,
     "metadata": {},
     "output_type": "execute_result"
    }
   ],
   "source": [
    "X, y = next(iter(train_loader)) #next(iter(x) - Возвращает следующий элемент итератора.\n",
    "X"
   ]
  },
  {
   "cell_type": "code",
   "execution_count": 7,
   "metadata": {
    "colab": {
     "base_uri": "https://localhost:8080/",
     "height": 119
    },
    "id": "SAaI0uHWYUrb",
    "outputId": "b9a743d2-f2be-4930-dba3-e9ab123e20b5"
   },
   "outputs": [
    {
     "data": {
      "text/plain": [
       "tensor([0, 1, 0, 1, 0, 1, 0, 0, 1, 0, 1, 1, 0, 1, 1, 1, 0, 1, 1, 0, 1, 1, 1, 0,\n",
       "        0, 1, 1, 0, 1, 0, 1, 1, 1, 1, 0, 0, 0, 0, 0, 1, 0, 1, 0, 0, 1, 1, 0, 1,\n",
       "        0, 1, 0, 0, 0, 0, 0, 1, 1, 0, 0, 0, 0, 1, 1, 1, 0, 1, 0, 1, 0, 1, 1, 0,\n",
       "        0, 1, 1, 0, 1, 1, 1, 1, 1, 1, 0, 1, 1, 1, 1, 0, 1, 0, 0, 1, 0, 0, 0, 0,\n",
       "        0, 0, 1, 1, 1, 1, 0, 1, 0, 1, 0, 0, 1, 1, 0, 0, 1, 1, 0, 1, 1, 0, 0, 1,\n",
       "        1, 1, 1, 0, 0, 0, 0, 0])"
      ]
     },
     "execution_count": 7,
     "metadata": {},
     "output_type": "execute_result"
    }
   ],
   "source": [
    "y"
   ]
  },
  {
   "cell_type": "markdown",
   "metadata": {
    "id": "KPw6jv5hYXhV"
   },
   "source": [
    "Никакой магии, просто многомерные матрицы. Можно даже проверить, что то, что мы получили, то есть первый батч имееет правильную размерность.В y - 1 это класс цифры \"7\", 0 - \"3\""
   ]
  },
  {
   "cell_type": "code",
   "execution_count": 8,
   "metadata": {
    "colab": {
     "base_uri": "https://localhost:8080/",
     "height": 34
    },
    "id": "mQH1_6dSYlnW",
    "outputId": "f6f72aba-2367-442f-eb82-10f38c7d039d"
   },
   "outputs": [
    {
     "data": {
      "text/plain": [
       "torch.Size([128, 1, 28, 28])"
      ]
     },
     "execution_count": 8,
     "metadata": {},
     "output_type": "execute_result"
    }
   ],
   "source": [
    "X.shape #128 - примеров, [1, 28, 28] - размерность картинки, 1 - значит что из трех каналов (Р, Г, Б) у нас всего один, а сама картинка 28 на 28"
   ]
  },
  {
   "cell_type": "code",
   "execution_count": 9,
   "metadata": {
    "colab": {
     "base_uri": "https://localhost:8080/",
     "height": 34
    },
    "id": "yGAYt4oqYpW5",
    "outputId": "28184602-483d-45e4-f6b1-3b82cec0d19f"
   },
   "outputs": [
    {
     "data": {
      "text/plain": [
       "torch.Size([128])"
      ]
     },
     "execution_count": 9,
     "metadata": {},
     "output_type": "execute_result"
    }
   ],
   "source": [
    "y.shape"
   ]
  },
  {
   "cell_type": "markdown",
   "metadata": {
    "id": "CNVEJYNXN_Gd"
   },
   "source": [
    "Проверим, правда ли это картинки"
   ]
  },
  {
   "cell_type": "code",
   "execution_count": 10,
   "metadata": {
    "colab": {
     "base_uri": "https://localhost:8080/",
     "height": 420
    },
    "id": "-Kkv2jAKN_Ge",
    "outputId": "10a727e2-6340-4f62-91fa-6f0e441c86ac"
   },
   "outputs": [
    {
     "data": {
      "image/png": "[encoded data removed]",
      "text/plain": [
       "<Figure size 600x700 with 25 Axes>"
      ]
     },
     "metadata": {},
     "output_type": "display_data"
    }
   ],
   "source": [
    "X, y = next(iter(train_loader))\n",
    "X = X.numpy() # перевод тензора в массив нумпай, просто изменение типа данных \n",
    "y = y.numpy()\n",
    "\n",
    "plt.figure(figsize=(6, 7))\n",
    "for i in range(25):\n",
    "    plt.subplot(5, 5, i+1)\n",
    "    plt.imshow(X[i].reshape(28, 28), cmap=plt.cm.Greys_r)\n",
    "    plt.title(y[i])\n",
    "    plt.axis('off')"
   ]
  },
  {
   "cell_type": "markdown",
   "metadata": {
    "id": "jL6Cd-7tb29_"
   },
   "source": [
    "Нам столько размерностей не нужно, поэтому давайте выпрямим матрицу, тем боле мы знаем что значение каждого пикселя независимо друг друга."
   ]
  },
  {
   "cell_type": "code",
   "execution_count": 11,
   "metadata": {
    "colab": {
     "base_uri": "https://localhost:8080/",
     "height": 34
    },
    "id": "tDiEEUYJN_G6",
    "outputId": "c057b0ba-904b-4a91-e982-db48628aa346"
   },
   "outputs": [
    {
     "data": {
      "text/plain": [
       "torch.Size([128, 784])"
      ]
     },
     "execution_count": 11,
     "metadata": {},
     "output_type": "execute_result"
    }
   ],
   "source": [
    "X, y = next(iter(train_loader))\n",
    "X = X.view(X.shape[0], -1)\n",
    "X.shape"
   ]
  },
  {
   "cell_type": "markdown",
   "metadata": {
    "id": "6_m0y3z9N_HN"
   },
   "source": [
    " Размерность\n",
    "- количество примеров в батче\n",
    "- количество фичей"
   ]
  },
  {
   "cell_type": "code",
   "execution_count": 12,
   "metadata": {
    "colab": {
     "base_uri": "https://localhost:8080/",
     "height": 119
    },
    "id": "0rRs_fibN_HX",
    "outputId": "e029c693-4927-4781-e4a7-8ee3a4b02d1e"
   },
   "outputs": [
    {
     "data": {
      "text/plain": [
       "tensor([1, 0, 1, 1, 0, 0, 1, 0, 0, 1, 0, 0, 1, 1, 1, 0, 0, 0, 0, 0, 0, 1, 1, 1,\n",
       "        1, 1, 0, 1, 1, 1, 0, 0, 1, 1, 0, 0, 0, 1, 1, 1, 1, 1, 1, 0, 0, 0, 0, 0,\n",
       "        1, 0, 0, 0, 0, 0, 1, 0, 0, 0, 0, 0, 0, 0, 1, 1, 0, 0, 0, 1, 0, 1, 1, 1,\n",
       "        1, 1, 0, 0, 0, 1, 0, 1, 0, 0, 1, 0, 1, 1, 0, 1, 0, 1, 1, 1, 0, 1, 1, 1,\n",
       "        0, 0, 0, 1, 1, 1, 1, 0, 0, 1, 0, 1, 1, 1, 0, 0, 1, 0, 0, 0, 1, 0, 1, 1,\n",
       "        1, 1, 0, 1, 0, 0, 1, 0])"
      ]
     },
     "execution_count": 12,
     "metadata": {},
     "output_type": "execute_result"
    }
   ],
   "source": [
    "y"
   ]
  },
  {
   "cell_type": "markdown",
   "metadata": {
    "id": "Z4vTsvPZdPQg"
   },
   "source": [
    "Такой У нам не совсем подходит. Сейчас объясню почему. Размерность Х (128,784) матрично перемножим на скрытый слой (784,1) и получится (128,1). Нужно понимать, что размерность (128,) и (128,1) это немного разные вещи  "
   ]
  },
  {
   "cell_type": "code",
   "execution_count": 13,
   "metadata": {
    "colab": {
     "base_uri": "https://localhost:8080/",
     "height": 34
    },
    "id": "98g7689ON_Hc",
    "outputId": "007d721e-ebd9-4752-d948-97887b4917bd"
   },
   "outputs": [
    {
     "data": {
      "text/plain": [
       "torch.Size([128, 1])"
      ]
     },
     "execution_count": 13,
     "metadata": {},
     "output_type": "execute_result"
    }
   ],
   "source": [
    "w = torch.rand(784, 1) #Рандомные необученые веса\n",
    "pred = X.matmul(w)\n",
    "pred.shape"
   ]
  },
  {
   "cell_type": "code",
   "execution_count": 14,
   "metadata": {
    "colab": {
     "base_uri": "https://localhost:8080/",
     "height": 1000
    },
    "id": "KG9L5xtJd9TQ",
    "outputId": "6e5671bc-eb6a-4e20-f5c9-2d391b067d4a"
   },
   "outputs": [
    {
     "data": {
      "text/plain": [
       "tensor([[-6.4068e+01],\n",
       "        [ 2.9598e+01],\n",
       "        [-6.5293e+01],\n",
       "        [-1.4456e+00],\n",
       "        [-3.9329e+01],\n",
       "        [-6.9538e+00],\n",
       "        [-4.0263e+01],\n",
       "        [ 1.9190e+01],\n",
       "        [ 5.7244e+01],\n",
       "        [-6.6247e+01],\n",
       "        [ 3.9141e+01],\n",
       "        [-6.5775e+01],\n",
       "        [-1.5236e+01],\n",
       "        [-5.0752e+01],\n",
       "        [-7.6296e+01],\n",
       "        [ 4.8959e+01],\n",
       "        [-1.3399e+01],\n",
       "        [ 8.2168e+00],\n",
       "        [-2.4137e+00],\n",
       "        [-8.6407e+00],\n",
       "        [ 6.7930e+00],\n",
       "        [-4.4331e+01],\n",
       "        [ 1.6267e+01],\n",
       "        [-3.5444e+00],\n",
       "        [-7.0926e+01],\n",
       "        [-4.8420e+01],\n",
       "        [ 8.0822e+01],\n",
       "        [-5.7328e+01],\n",
       "        [ 7.8825e+00],\n",
       "        [-3.2360e+01],\n",
       "        [-1.5299e+01],\n",
       "        [-4.3589e+01],\n",
       "        [-6.2516e+01],\n",
       "        [ 1.1921e+01],\n",
       "        [ 3.4903e+01],\n",
       "        [-4.4157e+01],\n",
       "        [ 3.4751e+01],\n",
       "        [-6.5040e+00],\n",
       "        [ 2.6954e-02],\n",
       "        [-3.9268e+01],\n",
       "        [-6.1898e+01],\n",
       "        [-6.3914e+01],\n",
       "        [-3.6692e+01],\n",
       "        [-1.3947e+01],\n",
       "        [ 7.0091e-01],\n",
       "        [-6.2093e+01],\n",
       "        [-5.6885e+01],\n",
       "        [ 2.4689e+00],\n",
       "        [-6.0874e+01],\n",
       "        [ 4.3085e+01],\n",
       "        [ 1.9817e+01],\n",
       "        [ 7.1506e-01],\n",
       "        [-3.1284e+01],\n",
       "        [-8.7859e+00],\n",
       "        [-4.9182e+01],\n",
       "        [-3.1458e+01],\n",
       "        [-6.8378e+01],\n",
       "        [ 1.4836e+02],\n",
       "        [-1.5054e+01],\n",
       "        [-6.6379e+01],\n",
       "        [ 1.2670e+01],\n",
       "        [-9.1930e+01],\n",
       "        [-1.5719e+01],\n",
       "        [-2.3679e+01],\n",
       "        [-2.2960e+00],\n",
       "        [-3.2246e+01],\n",
       "        [ 2.3290e+00],\n",
       "        [-6.2827e+01],\n",
       "        [ 2.4208e+01],\n",
       "        [-8.7085e+01],\n",
       "        [-2.1830e+00],\n",
       "        [-5.6268e+01],\n",
       "        [ 1.5896e+01],\n",
       "        [ 5.8313e+01],\n",
       "        [ 7.3008e+01],\n",
       "        [ 6.2836e+00],\n",
       "        [-2.9362e+01],\n",
       "        [-6.7966e+01],\n",
       "        [ 6.8485e+01],\n",
       "        [-5.9240e+01],\n",
       "        [-2.7842e+01],\n",
       "        [ 9.1376e+01],\n",
       "        [-4.0501e+01],\n",
       "        [-5.2405e+01],\n",
       "        [ 9.5949e+00],\n",
       "        [ 1.8604e+00],\n",
       "        [-2.4142e+01],\n",
       "        [-6.5670e+01],\n",
       "        [-3.9340e+01],\n",
       "        [-4.3429e+01],\n",
       "        [ 3.8247e+01],\n",
       "        [-1.0595e+02],\n",
       "        [ 1.3170e+01],\n",
       "        [-3.7027e+01],\n",
       "        [-2.5200e+01],\n",
       "        [-3.1165e+01],\n",
       "        [ 9.5909e+01],\n",
       "        [ 2.5387e+01],\n",
       "        [-2.2300e+01],\n",
       "        [ 3.4899e+01],\n",
       "        [-1.4415e+01],\n",
       "        [ 4.8128e+01],\n",
       "        [ 2.9936e+01],\n",
       "        [-3.8588e+00],\n",
       "        [ 1.2916e+01],\n",
       "        [ 1.0131e+01],\n",
       "        [-5.0631e+01],\n",
       "        [-9.6411e+01],\n",
       "        [-3.4189e+01],\n",
       "        [-4.6986e+01],\n",
       "        [ 8.9403e+00],\n",
       "        [-1.2946e+01],\n",
       "        [-2.9478e+01],\n",
       "        [ 1.8030e+01],\n",
       "        [ 4.3023e-01],\n",
       "        [ 1.1537e+01],\n",
       "        [-6.3817e+01],\n",
       "        [ 4.1927e+01],\n",
       "        [-2.6612e+01],\n",
       "        [-2.6188e+00],\n",
       "        [-3.2510e+01],\n",
       "        [ 2.3795e+01],\n",
       "        [ 3.5223e+01],\n",
       "        [ 1.0412e+02],\n",
       "        [ 2.6342e+01],\n",
       "        [ 1.2115e+02],\n",
       "        [ 6.0134e+01],\n",
       "        [-5.3149e+01]])"
      ]
     },
     "execution_count": 14,
     "metadata": {},
     "output_type": "execute_result"
    }
   ],
   "source": [
    "pred"
   ]
  },
  {
   "cell_type": "markdown",
   "metadata": {
    "id": "Rb1hswcGeEpc"
   },
   "source": [
    "Теперь у нас есть предсказания и их размерность (128,1). Нужно будет счтить лосс с у, поэтому приведем его к такой же размерности с expand_dims - это функция есть в нумпае, также есть и в торче"
   ]
  },
  {
   "cell_type": "code",
   "execution_count": 15,
   "metadata": {
    "id": "wAIFQMfwN_Hl"
   },
   "outputs": [],
   "source": [
    "y = np.expand_dims(y, 1)"
   ]
  },
  {
   "cell_type": "code",
   "execution_count": 16,
   "metadata": {
    "colab": {
     "base_uri": "https://localhost:8080/",
     "height": 1000
    },
    "id": "SrlrvUq7N_Hw",
    "outputId": "3a38d8c2-f9ce-4565-c289-fd32ac79dec1"
   },
   "outputs": [
    {
     "data": {
      "text/plain": [
       "array([[1],\n",
       "       [0],\n",
       "       [1],\n",
       "       [1],\n",
       "       [0],\n",
       "       [0],\n",
       "       [1],\n",
       "       [0],\n",
       "       [0],\n",
       "       [1],\n",
       "       [0],\n",
       "       [0],\n",
       "       [1],\n",
       "       [1],\n",
       "       [1],\n",
       "       [0],\n",
       "       [0],\n",
       "       [0],\n",
       "       [0],\n",
       "       [0],\n",
       "       [0],\n",
       "       [1],\n",
       "       [1],\n",
       "       [1],\n",
       "       [1],\n",
       "       [1],\n",
       "       [0],\n",
       "       [1],\n",
       "       [1],\n",
       "       [1],\n",
       "       [0],\n",
       "       [0],\n",
       "       [1],\n",
       "       [1],\n",
       "       [0],\n",
       "       [0],\n",
       "       [0],\n",
       "       [1],\n",
       "       [1],\n",
       "       [1],\n",
       "       [1],\n",
       "       [1],\n",
       "       [1],\n",
       "       [0],\n",
       "       [0],\n",
       "       [0],\n",
       "       [0],\n",
       "       [0],\n",
       "       [1],\n",
       "       [0],\n",
       "       [0],\n",
       "       [0],\n",
       "       [0],\n",
       "       [0],\n",
       "       [1],\n",
       "       [0],\n",
       "       [0],\n",
       "       [0],\n",
       "       [0],\n",
       "       [0],\n",
       "       [0],\n",
       "       [0],\n",
       "       [1],\n",
       "       [1],\n",
       "       [0],\n",
       "       [0],\n",
       "       [0],\n",
       "       [1],\n",
       "       [0],\n",
       "       [1],\n",
       "       [1],\n",
       "       [1],\n",
       "       [1],\n",
       "       [1],\n",
       "       [0],\n",
       "       [0],\n",
       "       [0],\n",
       "       [1],\n",
       "       [0],\n",
       "       [1],\n",
       "       [0],\n",
       "       [0],\n",
       "       [1],\n",
       "       [0],\n",
       "       [1],\n",
       "       [1],\n",
       "       [0],\n",
       "       [1],\n",
       "       [0],\n",
       "       [1],\n",
       "       [1],\n",
       "       [1],\n",
       "       [0],\n",
       "       [1],\n",
       "       [1],\n",
       "       [1],\n",
       "       [0],\n",
       "       [0],\n",
       "       [0],\n",
       "       [1],\n",
       "       [1],\n",
       "       [1],\n",
       "       [1],\n",
       "       [0],\n",
       "       [0],\n",
       "       [1],\n",
       "       [0],\n",
       "       [1],\n",
       "       [1],\n",
       "       [1],\n",
       "       [0],\n",
       "       [0],\n",
       "       [1],\n",
       "       [0],\n",
       "       [0],\n",
       "       [0],\n",
       "       [1],\n",
       "       [0],\n",
       "       [1],\n",
       "       [1],\n",
       "       [1],\n",
       "       [1],\n",
       "       [0],\n",
       "       [1],\n",
       "       [0],\n",
       "       [0],\n",
       "       [1],\n",
       "       [0]], dtype=int64)"
      ]
     },
     "execution_count": 16,
     "metadata": {},
     "output_type": "execute_result"
    }
   ],
   "source": [
    "y"
   ]
  },
  {
   "cell_type": "markdown",
   "metadata": {
    "id": "TFAKpwY_N_H_"
   },
   "source": [
    "Итерация по эпохам"
   ]
  },
  {
   "cell_type": "code",
   "execution_count": 17,
   "metadata": {
    "colab": {
     "base_uri": "https://localhost:8080/",
     "height": 68
    },
    "id": "DWmQFlyWN_IB",
    "outputId": "5317f355-03fc-443c-90b2-811c563ac813"
   },
   "outputs": [
    {
     "name": "stdout",
     "output_type": "stream",
     "text": [
      "Эпоха - 1, прошли - 100.00 % датасета\n",
      "Эпоха - 2, прошли - 100.00 % датасета\n",
      "Эпоха - 3, прошли - 100.00 % датасета\n"
     ]
    }
   ],
   "source": [
    "epochs = 3\n",
    "\n",
    "for n_epoch in range(epochs):\n",
    "    \n",
    "    dataset_passed_samples = 0\n",
    "    \n",
    "    for x, y in train_loader:\n",
    "        \n",
    "        # вот здесь мы могли бы как-то манипулировать с данными, например, учить, но пока этого делать не будет\n",
    "        \n",
    "        time.sleep(0.05)\n",
    "        \n",
    "        dataset_passed_samples += x.shape[0]\n",
    "        \n",
    "        dataset_passed_percent = dataset_passed_samples * 100 / train_loader.dataset.data.shape[0]\n",
    "        \n",
    "        print(f'Эпоха - {n_epoch + 1}, прошли - {dataset_passed_percent:.2f} % датасета', end='\\r')\n",
    "        \n",
    "    print('\\r')"
   ]
  },
  {
   "cell_type": "markdown",
   "metadata": {
    "id": "8iBd9MS_f7Eg"
   },
   "source": [
    "# Однослойный персептрон"
   ]
  },
  {
   "cell_type": "code",
   "execution_count": 30,
   "metadata": {
    "colab": {
     "base_uri": "https://localhost:8080/",
     "height": 102
    },
    "id": "x9wKt3z1gIo7",
    "outputId": "1eff2785-550d-4042-b511-05a050f71c96"
   },
   "outputs": [
    {
     "name": "stdout",
     "output_type": "stream",
     "text": [
      "Epoch: 1\n",
      "Epoch: 2\n",
      "Epoch: 3\n",
      "Epoch: 4\n",
      "Epoch: 5\n"
     ]
    }
   ],
   "source": [
    "learning_rate = 0.01 # тот самый лернинг рейт, который определяет какую часть от градиента мы будем брать\n",
    "epochs = 5  #сколько раз мы пройдем по всему тренировачному набору наших данных\n",
    "\n",
    "batch_size = 128  #это число примеров в баче понадобится нам при обучении чтобы усреднять лосс (ошибку обучения)\n",
    "n_feat = 784\n",
    "\n",
    "w1 = np.random.rand(n_feat,1)*0.01 #0.01 - нормируем таким образом наши веса, чтобы избежать деления на ноль при бэкпропе, \n",
    "                                    #эмпирически выбрано, так как сами фичи у нас имеют значения близкие к 0\n",
    "b1 = np.zeros(1) #размерность должна совпадать с количеством параметров, которые у нас останутся после матричного перемножения\n",
    "\n",
    "losses = [] #на каждой итерации (и для всех эпох) будем сохранять сюда наш Лосс, чтобы видеть обучается ли НС\n",
    "\n",
    "for n_epoch in range(epochs):\n",
    "    \n",
    "    print(f'Epoch: {n_epoch + 1}')\n",
    "    \n",
    "    for x, y in train_loader:\n",
    "\n",
    "        x = x.view(x.shape[0], -1).numpy() #приводим к размерности (128,784)\n",
    "        y = np.expand_dims(y.numpy(), 1) #приводим к размерности (128,1)\n",
    "\n",
    "        h1 = x.dot(w1) + b1 #переход в одномерное пространство\n",
    "        p = 1/(1+np.exp(-h1)) #преобразование в \"вероятности\"\n",
    "        \n",
    "        bce = (-np.sum(np.multiply(np.log(p), y) + np.multiply((1 - y), np.log(1 - p)))) / batch_size \n",
    "        #расчет энтропии с усреднением по размеру бача\n",
    "          \n",
    "        losses.append(bce) \n",
    "        #ниже производная bce и sigmoid, если вы распишите две этих производные, перемножите и сократите, то полчится следующая строчка\n",
    "        dp = (p - y) / batch_size \n",
    "        dw1 = np.dot(x.T, dp) # производная по линейному преобразванию, относительно W - весов \n",
    "        db1 = np.sum(dp) # производная по лин преобразованиюб относительно В - баяса, \n",
    "        #здесь по идее должно быть перемножение на единичный вектор (128,1), но это тоже самое что и сумма значениеб типа лайф хак\n",
    "        \n",
    "        w1 -= learning_rate * dw1 # Обновим веса и баясы \n",
    "        b1 -= learning_rate * db1"
   ]
  },
  {
   "cell_type": "markdown",
   "metadata": {
    "id": "Lc3-pw-4wMum"
   },
   "source": [
    "А теперь построим график функции потерь"
   ]
  },
  {
   "cell_type": "code",
   "execution_count": 24,
   "metadata": {
    "colab": {
     "base_uri": "https://localhost:8080/",
     "height": 747
    },
    "id": "NvB4U5OXhE3t",
    "outputId": "6248bafc-51df-44a5-fc44-5c47efd21817"
   },
   "outputs": [
    {
     "data": {
      "text/plain": [
       "Text(0, 0.5, 'Loss function')"
      ]
     },
     "execution_count": 24,
     "metadata": {},
     "output_type": "execute_result"
    },
    {
     "data": {
      "image/png": "[encoded data removed]",
      "text/plain": [
       "<Figure size 1400x1200 with 1 Axes>"
      ]
     },
     "metadata": {},
     "output_type": "display_data"
    }
   ],
   "source": [
    "plt.figure(figsize=(14, 12))\n",
    "plt.plot(losses)\n",
    "plt.grid()\n",
    "plt.title('Training process')\n",
    "plt.xlabel('Iterations')\n",
    "plt.ylabel('Loss function')"
   ]
  },
  {
   "cell_type": "markdown",
   "metadata": {
    "id": "IfpCVrN2tO5S"
   },
   "source": [
    "## Математика \n",
    "\n",
    "\n",
    "![alt text](https://sun9-39.userapi.com/c850608/v850608777/47a4/fgZlI898IUU.jpg)\n",
    "![alt text](https://sun9-41.userapi.com/c858216/v858216777/cc4f5/v3CPa-tnm80.jpg)\n",
    "![alt text](https://sun9-67.userapi.com/c857632/v857632471/f6e95/H0dsmWsUInc.jpg)\n",
    "![alt text](https://sun9-71.userapi.com/c858120/v858120274/10d0ef/hdKO-3Syk3g.jpg)\n",
    "\n"
   ]
  },
  {
   "cell_type": "markdown",
   "metadata": {
    "id": "ToNAC3-bN_IN"
   },
   "source": [
    "А теперь ваша очередь, нужно написать двуслоный персептрон, согласно коду и выкладкам выше"
   ]
  },
  {
   "cell_type": "code",
   "execution_count": 25,
   "metadata": {
    "id": "yJSR8hdTN_IO",
    "outputId": "a929058d-7946-40e3-e9d7-f9bad80b1de3"
   },
   "outputs": [
    {
     "name": "stdout",
     "output_type": "stream",
     "text": [
      "Epoch: 1\n",
      "Epoch: 2\n",
      "Epoch: 3\n",
      "Epoch: 4\n"
     ]
    },
    {
     "name": "stderr",
     "output_type": "stream",
     "text": [
      "C:\\Users\\lenov\\AppData\\Local\\Temp\\ipykernel_956\\619956577.py:15: RuntimeWarning: overflow encountered in exp\n",
      "  return 1/(1 + np.exp(-x))\n",
      "C:\\Users\\lenov\\AppData\\Local\\Temp\\ipykernel_956\\619956577.py:44: RuntimeWarning: overflow encountered in exp\n",
      "  df_dw1 = np.dot(x.T,np.multiply(d_loss, d_bce)*np.multiply(w2.T, (1-((np.exp(z1)-np.exp(-z1))/(np.exp(z1)+np.exp(-z1))))))\n",
      "C:\\Users\\lenov\\AppData\\Local\\Temp\\ipykernel_956\\619956577.py:44: RuntimeWarning: invalid value encountered in divide\n",
      "  df_dw1 = np.dot(x.T,np.multiply(d_loss, d_bce)*np.multiply(w2.T, (1-((np.exp(z1)-np.exp(-z1))/(np.exp(z1)+np.exp(-z1))))))\n",
      "C:\\Users\\lenov\\AppData\\Local\\Temp\\ipykernel_956\\619956577.py:45: RuntimeWarning: overflow encountered in exp\n",
      "  df_db1 = np.sum(np.multiply(d_loss, d_bce)*np.multiply(w2.T, (1-((np.exp(z1)-np.exp(-z1))/(np.exp(z1)+np.exp(-z1))))))\n",
      "C:\\Users\\lenov\\AppData\\Local\\Temp\\ipykernel_956\\619956577.py:45: RuntimeWarning: invalid value encountered in divide\n",
      "  df_db1 = np.sum(np.multiply(d_loss, d_bce)*np.multiply(w2.T, (1-((np.exp(z1)-np.exp(-z1))/(np.exp(z1)+np.exp(-z1))))))\n"
     ]
    },
    {
     "name": "stdout",
     "output_type": "stream",
     "text": [
      "Epoch: 5\n",
      "Epoch: 6\n",
      "Epoch: 7\n",
      "Epoch: 8\n",
      "Epoch: 9\n",
      "Epoch: 10\n",
      "Epoch: 11\n",
      "Epoch: 12\n",
      "Epoch: 13\n",
      "Epoch: 14\n",
      "Epoch: 15\n",
      "Epoch: 16\n",
      "Epoch: 17\n",
      "Epoch: 18\n",
      "Epoch: 19\n",
      "Epoch: 20\n"
     ]
    }
   ],
   "source": [
    "learning_rate = 0.01\n",
    "epochs = 20\n",
    "\n",
    "batch_size = 128  \n",
    "n_feat = 784\n",
    "\n",
    "w1 = np.random.rand(n_feat, 300)*0.01\n",
    "b1 = np.zeros(300)\n",
    "w2 = np.random.rand(300, 1)*0.01\n",
    "b2 = np.zeros(1)\n",
    "\n",
    "losses = []\n",
    "\n",
    "def sigm(x):\n",
    "    return 1/(1 + np.exp(-x))\n",
    "\n",
    "for n_epoch in range(epochs):\n",
    "    \n",
    "    print(f'Epoch: {n_epoch + 1}')\n",
    "    \n",
    "    for x, y in train_loader:\n",
    "        \n",
    "        x = x.view(x.shape[0], -1).numpy()\n",
    "        y = np.expand_dims(y.numpy(), 1)\n",
    "        \n",
    "        ### КОД СЮДА ###\n",
    "        \n",
    "        # forward\n",
    "        z1 = x.dot(w1) + b1\n",
    "        a1 = sigm(z1)\n",
    "        z2 = a1.dot(w2) + b2\n",
    "        A2 = sigm(z2)\n",
    "        \n",
    "        # рассчет bce\n",
    "        bce = (-np.sum(np.multiply(np.log(A2), y)+ np.multiply((1 - y), np.log(1 - A2))))/batch_size\n",
    "        losses.append(bce)\n",
    "        \n",
    "        # backward\n",
    "        d_loss = (1 - y)/(1 - A2) - y/A2\n",
    "        d_bce = A2 * (1 - A2)\n",
    "        \n",
    "        df_dw2 = (a1.T.dot(np.multiply(d_loss, d_bce)))/batch_size\n",
    "        df_db2 = (np.sum(np.multiply(d_loss, d_bce)))/batch_size\n",
    "        df_dw1 = np.dot(x.T,np.multiply(d_loss, d_bce)*np.multiply(w2.T, (1-((np.exp(z1)-np.exp(-z1))/(np.exp(z1)+np.exp(-z1))))))  \n",
    "        df_db1 = np.sum(np.multiply(d_loss, d_bce)*np.multiply(w2.T, (1-((np.exp(z1)-np.exp(-z1))/(np.exp(z1)+np.exp(-z1))))))  \n",
    "        \n",
    "        # gradient descent\n",
    "        w2 -= learning_rate * df_dw2\n",
    "        b2 -= learning_rate * df_db2\n",
    "        w1 -= learning_rate * df_dw1\n",
    "        b1 -= learning_rate * df_db1"
   ]
  },
  {
   "cell_type": "markdown",
   "metadata": {
    "id": "ur7SqyVGN_IY"
   },
   "source": [
    "## Подсказки по размерностям\n",
    "\n",
    "### Forward\n",
    "\n",
    "- z1 - первое линейное преобразование - (BATCH_SIZE, INNER_FEATURES)\n",
    "- a1 - Применение нелинейности - (BATCH_SIZE, INNER_FEATURES)\n",
    "- z2 - второе нелинейное преобразование - (BATCH_SIZE, 1)\n",
    "- pred or A2- сигмоида - (BATCH_SIZE, 1)\n",
    "- loss - функция потерь - скаляр\n",
    "\n",
    "### Backward\n",
    "\n",
    "- d_BCE/d_pred - градиент функции потерь по pred - (BATCH_SIZE, 1)\n",
    "- d_pred/dz2 - градиент сигмоиды по z2 - (BATCH_SIZE, 1)\n",
    "- dz2/da1 - градиент линейного преобразования по a1 - (BATCH_SIZE, INNER_FEATURES)\n",
    "- dz2/dw2 - градиент линейного преобразования по w2 - (INNER_FEATURES, 1)\n",
    "- dz2/db2 - градиент линейного преобразования по b2 - (1,)\n",
    "- da1/dz1 - градиент нелинейной функции по z1 - (BATCH_SIZE, INNER_FEATURES)\n",
    "- dz1/dw1 - градиент линейного преобразования по w1 - (IN_FEATURES, INNER_FEATURES)\n",
    "- dz1/db1 - градиент линейного преобразования по b1 - (INNER_FEATURES,)"
   ]
  },
  {
   "cell_type": "markdown",
   "metadata": {
    "id": "ihOoASMAN_Ia"
   },
   "source": [
    "и график нарисуйте"
   ]
  },
  {
   "cell_type": "code",
   "execution_count": 26,
   "metadata": {
    "id": "CwRzXKRNN_Ic",
    "outputId": "a0cf5951-b66f-431d-9482-d258760039e1"
   },
   "outputs": [
    {
     "data": {
      "image/png": "[encoded data removed]",
      "text/plain": [
       "<Figure size 1400x1200 with 1 Axes>"
      ]
     },
     "metadata": {},
     "output_type": "display_data"
    }
   ],
   "source": [
    "plt.figure(figsize=(14, 12))\n",
    "plt.plot(losses)\n",
    "plt.grid()\n",
    "plt.title('Training process')\n",
    "plt.xlabel('Iterations')\n",
    "plt.ylabel('Loss function');"
   ]
  },
  {
   "cell_type": "markdown",
   "metadata": {
    "id": "axU2DnJ1IT1J"
   },
   "source": [
    "# Тестирование"
   ]
  },
  {
   "cell_type": "markdown",
   "metadata": {
    "id": "4sd8o1ZbIEXH"
   },
   "source": [
    "А как это тестировать? Да, очень просто нужно просто выполнять форвард без бэкворда, то есть последовательно применять преобразования с обученными весами"
   ]
  },
  {
   "cell_type": "code",
   "execution_count": 32,
   "metadata": {
    "id": "7DKeGWwzIliO"
   },
   "outputs": [],
   "source": [
    "losses_test = []\n",
    "predicted = []\n",
    "true_lbls = []\n",
    "\n",
    "for x, y in test_loader:\n",
    "\n",
    "  x = x.view(x.shape[0], -1).numpy()\n",
    "  y = np.expand_dims(y.numpy(), 1)\n",
    "\n",
    "  h1 = x.dot(w1) + b1 #переход в одномерное пространство\n",
    "  p = 1/(1+np.exp(-h1)) #преобразование в \"вероятности\"\n",
    "  \n",
    "  bce = (-np.sum(np.multiply(np.log(p), y) + np.multiply((1 - y), np.log(1 - p)))) / batch_size \n",
    "  #расчет энтропии с усреднением по размеру бача\n",
    "    \n",
    "  losses_test.append(bce)\n",
    "  predicted.extend(p)\n",
    "  true_lbls.extend(y) "
   ]
  },
  {
   "cell_type": "markdown",
   "metadata": {
    "id": "259SOuP5K2HR"
   },
   "source": [
    "Проверим, что для каждого семплау нас есть предсказание"
   ]
  },
  {
   "cell_type": "code",
   "execution_count": 33,
   "metadata": {
    "colab": {
     "base_uri": "https://localhost:8080/",
     "height": 34
    },
    "id": "J3NQGFxfJY-4",
    "outputId": "2f71ca0f-f296-481d-b076-1b80a4385b4e"
   },
   "outputs": [
    {
     "name": "stdout",
     "output_type": "stream",
     "text": [
      "2038 2038\n"
     ]
    }
   ],
   "source": [
    "print(len(predicted), len(true_lbls))"
   ]
  },
  {
   "cell_type": "markdown",
   "metadata": {
    "id": "xWJ3fjLhK9z4"
   },
   "source": [
    "Теперь применим стандартную Ф меру и оценим нашу модель"
   ]
  },
  {
   "cell_type": "code",
   "execution_count": 34,
   "metadata": {
    "colab": {
     "base_uri": "https://localhost:8080/",
     "height": 34
    },
    "id": "BbD-n9rVJlBe",
    "outputId": "1f3fb485-9ec7-42f6-aba8-6e390cef1b60"
   },
   "outputs": [
    {
     "name": "stdout",
     "output_type": "stream",
     "text": [
      "F1 score is equal to: 0.98\n"
     ]
    }
   ],
   "source": [
    "from sklearn.metrics import f1_score\n",
    "pred = np.array([round(i[0]) for i in predicted]) \n",
    "# У нас были вероятности а нужны классы поэтому просто округлим каждое значени и получим лейблы \n",
    "t_lbls = np.array(true_lbls).squeeze() #снимем лишнюю размерность\n",
    "f1 = f1_score(pred, t_lbls, average='weighted')\n",
    "print('F1 score is equal to: {0:0.02f}'.format(f1))"
   ]
  },
  {
   "cell_type": "markdown",
   "metadata": {
    "id": "vMxfUk9DLfNx"
   },
   "source": [
    "Сделайте тоже самое для своей модели..."
   ]
  },
  {
   "cell_type": "code",
   "execution_count": 26,
   "metadata": {
    "id": "plkig1rcLmG_"
   },
   "outputs": [],
   "source": [
    "losses_test = []\n",
    "predicted = []\n",
    "true_lbls = []\n",
    "\n",
    "for x, y in test_loader:\n",
    "\n",
    "    x = x.view(x.shape[0], -1).numpy()\n",
    "    y = np.expand_dims(y.numpy(), 1)\n",
    "\n",
    "    z1 = x.dot(w1) + b1\n",
    "    a1 = sigm(z1)\n",
    "    z2 = a1.dot(w2) + b2 \n",
    "    A2 = sigm(z2)\n",
    "    \n",
    "    # рассчет bce (binary cross entropy)\n",
    "    bce = (-np.sum(np.multiply(np.log(A2), y) + np.multiply((1 - y), np.log(1 - A2)))) / batch_size\n",
    "    losses.append(bce)\n",
    "    #расчет энтропии с усреднением по размеру бача\n",
    "\n",
    "    losses_test.append(bce)\n",
    "    predicted.extend(A2)\n",
    "    true_lbls.extend(y)"
   ]
  },
  {
   "cell_type": "code",
   "execution_count": 35,
   "metadata": {},
   "outputs": [
    {
     "data": {
      "text/plain": [
       "[array([0.99260195]),\n",
       " array([0.98074999]),\n",
       " array([0.02610526]),\n",
       " array([0.9856135]),\n",
       " array([0.01104377]),\n",
       " array([0.00032629]),\n",
       " array([0.98850828]),\n",
       " array([0.98279151]),\n",
       " array([0.98693807]),\n",
       " array([0.01500941]),\n",
       " array([0.00670328]),\n",
       " array([0.95597289]),\n",
       " array([0.01627095]),\n",
       " array([0.98945265]),\n",
       " array([0.00021435]),\n",
       " array([0.9930239]),\n",
       " array([0.99493644]),\n",
       " array([0.00057442]),\n",
       " array([0.9997714]),\n",
       " array([0.97179089]),\n",
       " array([0.99192069]),\n",
       " array([0.99940278]),\n",
       " array([0.00611213]),\n",
       " array([0.00058793]),\n",
       " array([0.00190804]),\n",
       " array([0.8943789]),\n",
       " array([0.89849645]),\n",
       " array([0.00455184]),\n",
       " array([0.99124255]),\n",
       " array([0.92495864]),\n",
       " array([0.98982808]),\n",
       " array([0.995796]),\n",
       " array([0.97981709]),\n",
       " array([0.23898477]),\n",
       " array([0.99652659]),\n",
       " array([0.03858093]),\n",
       " array([0.98710621]),\n",
       " array([0.01269962]),\n",
       " array([0.82377118]),\n",
       " array([0.14802543]),\n",
       " array([5.49475472e-06]),\n",
       " array([0.00316318]),\n",
       " array([0.1173882]),\n",
       " array([0.00115136]),\n",
       " array([0.99354356]),\n",
       " array([0.9994822]),\n",
       " array([0.98766108]),\n",
       " array([0.01986935]),\n",
       " array([0.00625737]),\n",
       " array([0.89462966]),\n",
       " array([0.89683386]),\n",
       " array([0.05996391]),\n",
       " array([0.98020203]),\n",
       " array([0.88203107]),\n",
       " array([0.99206222]),\n",
       " array([0.99636786]),\n",
       " array([0.00044599]),\n",
       " array([0.92061566]),\n",
       " array([0.95631928]),\n",
       " array([0.97064011]),\n",
       " array([0.00187832]),\n",
       " array([0.00105065]),\n",
       " array([0.00337306]),\n",
       " array([0.00462281]),\n",
       " array([0.99742523]),\n",
       " array([0.00175624]),\n",
       " array([0.00425671]),\n",
       " array([0.97190608]),\n",
       " array([0.00010719]),\n",
       " array([0.71014993]),\n",
       " array([0.86189556]),\n",
       " array([0.0067674]),\n",
       " array([0.96616301]),\n",
       " array([0.70951332]),\n",
       " array([0.00023476]),\n",
       " array([0.96068215]),\n",
       " array([0.00366072]),\n",
       " array([0.0002412]),\n",
       " array([0.99514804]),\n",
       " array([0.95802616]),\n",
       " array([0.9966914]),\n",
       " array([0.99541757]),\n",
       " array([4.95431312e-05]),\n",
       " array([0.99691207]),\n",
       " array([0.00010642]),\n",
       " array([0.00059409]),\n",
       " array([0.00020024]),\n",
       " array([0.00031291]),\n",
       " array([0.00124799]),\n",
       " array([0.64625152]),\n",
       " array([0.85707276]),\n",
       " array([0.93740772]),\n",
       " array([4.20146621e-06]),\n",
       " array([0.99816741]),\n",
       " array([0.00028168]),\n",
       " array([0.00028987]),\n",
       " array([0.00517034]),\n",
       " array([0.99327106]),\n",
       " array([0.02687767]),\n",
       " array([0.98116928]),\n",
       " array([0.00559073]),\n",
       " array([0.0017074]),\n",
       " array([0.06142859]),\n",
       " array([0.00863548]),\n",
       " array([0.00310631]),\n",
       " array([0.95689673]),\n",
       " array([0.61031881]),\n",
       " array([0.99846393]),\n",
       " array([0.98239457]),\n",
       " array([0.03360461]),\n",
       " array([0.00028656]),\n",
       " array([0.00132098]),\n",
       " array([0.00022914]),\n",
       " array([0.02466424]),\n",
       " array([0.39824756]),\n",
       " array([0.99714293]),\n",
       " array([0.97150585]),\n",
       " array([1.63477265e-05]),\n",
       " array([0.00139404]),\n",
       " array([0.92976798]),\n",
       " array([0.03543274]),\n",
       " array([0.99459561]),\n",
       " array([0.99845741]),\n",
       " array([0.26518328]),\n",
       " array([0.98866909]),\n",
       " array([0.01158768]),\n",
       " array([0.00013948]),\n",
       " array([0.95460841]),\n",
       " array([0.99880282]),\n",
       " array([7.23889928e-05]),\n",
       " array([0.89727333]),\n",
       " array([0.99553836]),\n",
       " array([0.79299435]),\n",
       " array([0.00348499]),\n",
       " array([0.9991975]),\n",
       " array([0.00030991]),\n",
       " array([0.95971814]),\n",
       " array([0.00435166]),\n",
       " array([0.17017106]),\n",
       " array([0.00094038]),\n",
       " array([0.00323289]),\n",
       " array([0.91560797]),\n",
       " array([0.02946091]),\n",
       " array([0.99373602]),\n",
       " array([0.98122058]),\n",
       " array([0.9956106]),\n",
       " array([0.68035363]),\n",
       " array([0.0014135]),\n",
       " array([0.98754022]),\n",
       " array([0.00409186]),\n",
       " array([0.99658717]),\n",
       " array([0.04908968]),\n",
       " array([0.00029657]),\n",
       " array([0.94033434]),\n",
       " array([0.99165773]),\n",
       " array([0.00468563]),\n",
       " array([0.00016531]),\n",
       " array([0.00298846]),\n",
       " array([0.18550044]),\n",
       " array([0.00014154]),\n",
       " array([3.98374737e-05]),\n",
       " array([0.00178914]),\n",
       " array([0.96199622]),\n",
       " array([0.0062659]),\n",
       " array([0.00661433]),\n",
       " array([0.0003519]),\n",
       " array([0.99104877]),\n",
       " array([0.99822835]),\n",
       " array([0.98482649]),\n",
       " array([0.99461997]),\n",
       " array([0.92502481]),\n",
       " array([0.97163521]),\n",
       " array([0.00117237]),\n",
       " array([0.00025513]),\n",
       " array([0.96977945]),\n",
       " array([0.97482682]),\n",
       " array([0.0005615]),\n",
       " array([0.99734627]),\n",
       " array([0.00184275]),\n",
       " array([0.997838]),\n",
       " array([0.10788735]),\n",
       " array([0.00050896]),\n",
       " array([0.0004724]),\n",
       " array([3.61127938e-05]),\n",
       " array([0.54191093]),\n",
       " array([0.95465769]),\n",
       " array([0.99287784]),\n",
       " array([5.84223523e-05]),\n",
       " array([0.99398043]),\n",
       " array([5.999814e-05]),\n",
       " array([0.00079374]),\n",
       " array([0.00042611]),\n",
       " array([0.94185636]),\n",
       " array([0.0007872]),\n",
       " array([0.00272939]),\n",
       " array([0.99654464]),\n",
       " array([0.06620952]),\n",
       " array([0.93825979]),\n",
       " array([0.70164207]),\n",
       " array([0.00893064]),\n",
       " array([0.01722768]),\n",
       " array([0.93345199]),\n",
       " array([0.00724848]),\n",
       " array([0.01004077]),\n",
       " array([0.99879293]),\n",
       " array([0.00951071]),\n",
       " array([0.99399421]),\n",
       " array([0.96124768]),\n",
       " array([0.00755264]),\n",
       " array([0.99955451]),\n",
       " array([0.00355032]),\n",
       " array([0.88497835]),\n",
       " array([0.00145446]),\n",
       " array([0.97795292]),\n",
       " array([0.94379275]),\n",
       " array([0.02583074]),\n",
       " array([0.00529576]),\n",
       " array([0.00148394]),\n",
       " array([0.99835098]),\n",
       " array([0.08705897]),\n",
       " array([0.91467661]),\n",
       " array([0.02178739]),\n",
       " array([0.00159564]),\n",
       " array([0.96846736]),\n",
       " array([0.01521462]),\n",
       " array([0.99938982]),\n",
       " array([0.98738823]),\n",
       " array([0.00035683]),\n",
       " array([0.98434679]),\n",
       " array([0.00367092]),\n",
       " array([0.79897967]),\n",
       " array([0.40897292]),\n",
       " array([0.92589489]),\n",
       " array([0.99877913]),\n",
       " array([0.05836322]),\n",
       " array([0.74781359]),\n",
       " array([0.99051792]),\n",
       " array([3.14096668e-05]),\n",
       " array([0.97740498]),\n",
       " array([0.96055776]),\n",
       " array([0.00094742]),\n",
       " array([0.97193108]),\n",
       " array([0.97521125]),\n",
       " array([0.00910598]),\n",
       " array([0.99590842]),\n",
       " array([0.00017241]),\n",
       " array([0.96754497]),\n",
       " array([0.99841416]),\n",
       " array([0.98134064]),\n",
       " array([0.99757631]),\n",
       " array([0.64138959]),\n",
       " array([0.0003766]),\n",
       " array([0.3268955]),\n",
       " array([0.14465541]),\n",
       " array([0.00555323]),\n",
       " array([0.98040263]),\n",
       " array([0.59199297]),\n",
       " array([0.00241685]),\n",
       " array([0.9954194]),\n",
       " array([0.98335226]),\n",
       " array([0.76033787]),\n",
       " array([0.00794058]),\n",
       " array([0.99440752]),\n",
       " array([0.00012299]),\n",
       " array([0.5122109]),\n",
       " array([0.00102934]),\n",
       " array([0.0049755]),\n",
       " array([0.01777803]),\n",
       " array([0.04398376]),\n",
       " array([0.30169797]),\n",
       " array([0.00159941]),\n",
       " array([0.04994818]),\n",
       " array([0.99062466]),\n",
       " array([0.45550785]),\n",
       " array([0.94426612]),\n",
       " array([0.99711124]),\n",
       " array([0.9933151]),\n",
       " array([0.0076779]),\n",
       " array([0.98124334]),\n",
       " array([0.99185948]),\n",
       " array([0.99117775]),\n",
       " array([0.99129464]),\n",
       " array([0.99412437]),\n",
       " array([6.72485945e-05]),\n",
       " array([0.99306637]),\n",
       " array([0.00105787]),\n",
       " array([0.41231042]),\n",
       " array([0.99989313]),\n",
       " array([0.99126986]),\n",
       " array([0.00032368]),\n",
       " array([0.0002118]),\n",
       " array([0.17832445]),\n",
       " array([0.1165308]),\n",
       " array([0.02813246]),\n",
       " array([0.99841243]),\n",
       " array([0.00056598]),\n",
       " array([0.00028577]),\n",
       " array([5.46858459e-05]),\n",
       " array([1.38441049e-05]),\n",
       " array([0.70968211]),\n",
       " array([0.04960656]),\n",
       " array([0.92426598]),\n",
       " array([0.99848706]),\n",
       " array([0.99984869]),\n",
       " array([0.16421108]),\n",
       " array([0.01414119]),\n",
       " array([0.94433604]),\n",
       " array([0.98007732]),\n",
       " array([0.00966521]),\n",
       " array([0.00195708]),\n",
       " array([0.99977693]),\n",
       " array([0.63654815]),\n",
       " array([0.00032184]),\n",
       " array([0.00125024]),\n",
       " array([0.98383276]),\n",
       " array([0.99463861]),\n",
       " array([0.99149893]),\n",
       " array([0.99959592]),\n",
       " array([0.99689986]),\n",
       " array([0.98136616]),\n",
       " array([0.96573575]),\n",
       " array([0.81679837]),\n",
       " array([0.06713657]),\n",
       " array([9.42391332e-05]),\n",
       " array([0.0010052]),\n",
       " array([0.99163899]),\n",
       " array([0.80280213]),\n",
       " array([0.00061012]),\n",
       " array([0.49149196]),\n",
       " array([0.00048855]),\n",
       " array([0.99941656]),\n",
       " array([0.01116573]),\n",
       " array([8.89143216e-05]),\n",
       " array([0.00937296]),\n",
       " array([0.00681665]),\n",
       " array([0.00069783]),\n",
       " array([0.00037678]),\n",
       " array([0.99744475]),\n",
       " array([0.00274574]),\n",
       " array([0.92959445]),\n",
       " array([0.00066697]),\n",
       " array([0.39976833]),\n",
       " array([0.98519258]),\n",
       " array([0.0003667]),\n",
       " array([0.02894946]),\n",
       " array([0.97975966]),\n",
       " array([0.9595252]),\n",
       " array([0.99710456]),\n",
       " array([0.99811957]),\n",
       " array([0.84071446]),\n",
       " array([0.58209283]),\n",
       " array([0.94173997]),\n",
       " array([0.38357612]),\n",
       " array([0.03508643]),\n",
       " array([5.87264509e-05]),\n",
       " array([0.99707161]),\n",
       " array([0.00058742]),\n",
       " array([0.84969086]),\n",
       " array([0.00025901]),\n",
       " array([0.00253696]),\n",
       " array([0.98746769]),\n",
       " array([0.14846765]),\n",
       " array([0.02142564]),\n",
       " array([0.01004795]),\n",
       " array([0.00119756]),\n",
       " array([0.98768344]),\n",
       " array([0.70312376]),\n",
       " array([0.98272046]),\n",
       " array([0.00011293]),\n",
       " array([0.99231156]),\n",
       " array([0.99547041]),\n",
       " array([0.01191365]),\n",
       " array([0.98800116]),\n",
       " array([0.00362326]),\n",
       " array([0.00050321]),\n",
       " array([0.99577066]),\n",
       " array([0.00030028]),\n",
       " array([2.08735535e-05]),\n",
       " array([0.98648183]),\n",
       " array([0.95505206]),\n",
       " array([0.96848501]),\n",
       " array([0.9962057]),\n",
       " array([0.30337399]),\n",
       " array([0.02560102]),\n",
       " array([0.00639291]),\n",
       " array([0.00010401]),\n",
       " array([0.00116647]),\n",
       " array([0.99737851]),\n",
       " array([0.10247028]),\n",
       " array([0.95834113]),\n",
       " array([0.97483324]),\n",
       " array([0.99493149]),\n",
       " array([0.00056782]),\n",
       " array([0.83380096]),\n",
       " array([0.01069215]),\n",
       " array([0.99419973]),\n",
       " array([0.00054454]),\n",
       " array([0.99658117]),\n",
       " array([0.00728759]),\n",
       " array([0.01713035]),\n",
       " array([0.94280809]),\n",
       " array([0.99720166]),\n",
       " array([0.99654222]),\n",
       " array([0.99797356]),\n",
       " array([0.99341582]),\n",
       " array([0.00215312]),\n",
       " array([0.00023759]),\n",
       " array([0.99797547]),\n",
       " array([0.99804962]),\n",
       " array([0.00690308]),\n",
       " array([3.60752264e-05]),\n",
       " array([0.00062305]),\n",
       " array([0.00079307]),\n",
       " array([0.2838314]),\n",
       " array([0.07794889]),\n",
       " array([0.00175938]),\n",
       " array([0.96421628]),\n",
       " array([0.00237383]),\n",
       " array([0.93675527]),\n",
       " array([0.0002045]),\n",
       " array([0.00178259]),\n",
       " array([0.99926605]),\n",
       " array([7.96020218e-05]),\n",
       " array([0.9814674]),\n",
       " array([0.98758145]),\n",
       " array([0.95317558]),\n",
       " array([0.00132694]),\n",
       " array([0.97500294]),\n",
       " array([0.00112624]),\n",
       " array([0.00035497]),\n",
       " array([0.00057287]),\n",
       " array([0.06633489]),\n",
       " array([0.00033514]),\n",
       " array([0.01459836]),\n",
       " array([0.85330698]),\n",
       " array([0.9493789]),\n",
       " array([0.95585703]),\n",
       " array([0.0003667]),\n",
       " array([0.97684373]),\n",
       " array([0.96887952]),\n",
       " array([0.99343791]),\n",
       " array([0.00281986]),\n",
       " array([0.99490579]),\n",
       " array([5.61738619e-05]),\n",
       " array([0.99542795]),\n",
       " array([0.94937515]),\n",
       " array([0.00040713]),\n",
       " array([0.00035421]),\n",
       " array([0.99943891]),\n",
       " array([0.02560391]),\n",
       " array([0.99825277]),\n",
       " array([0.98279031]),\n",
       " array([0.99922581]),\n",
       " array([0.99893933]),\n",
       " array([0.00497394]),\n",
       " array([0.18521458]),\n",
       " array([2.02637944e-05]),\n",
       " array([0.99710326]),\n",
       " array([0.9869003]),\n",
       " array([0.99385238]),\n",
       " array([0.99491925]),\n",
       " array([0.99319659]),\n",
       " array([0.00382669]),\n",
       " array([0.98488407]),\n",
       " array([0.99279241]),\n",
       " array([0.99400022]),\n",
       " array([0.99272875]),\n",
       " array([0.99782192]),\n",
       " array([0.03742123]),\n",
       " array([0.00031027]),\n",
       " array([0.00029565]),\n",
       " array([0.99947054]),\n",
       " array([0.01175249]),\n",
       " array([0.99380304]),\n",
       " array([0.01293167]),\n",
       " array([0.99213437]),\n",
       " array([8.0509261e-05]),\n",
       " array([0.0022111]),\n",
       " array([0.00553202]),\n",
       " array([0.00839413]),\n",
       " array([0.99826774]),\n",
       " array([0.91371475]),\n",
       " array([0.54102167]),\n",
       " array([0.99713218]),\n",
       " array([0.99661062]),\n",
       " array([0.97933103]),\n",
       " array([0.00181469]),\n",
       " array([0.01235756]),\n",
       " array([0.0565144]),\n",
       " array([0.00240868]),\n",
       " array([0.99940525]),\n",
       " array([0.98321711]),\n",
       " array([0.99574386]),\n",
       " array([0.0038523]),\n",
       " array([0.99444352]),\n",
       " array([0.05402703]),\n",
       " array([0.99502939]),\n",
       " array([0.38802858]),\n",
       " array([0.00312387]),\n",
       " array([0.00082106]),\n",
       " array([0.00082409]),\n",
       " array([0.15896151]),\n",
       " array([0.99922346]),\n",
       " array([0.01096844]),\n",
       " array([0.01031648]),\n",
       " array([0.9959738]),\n",
       " array([0.98688254]),\n",
       " array([0.99345568]),\n",
       " array([0.99924662]),\n",
       " array([0.99476934]),\n",
       " array([0.99498867]),\n",
       " array([0.00153573]),\n",
       " array([0.00128942]),\n",
       " array([0.99217282]),\n",
       " array([0.9650868]),\n",
       " array([0.00032196]),\n",
       " array([0.8773459]),\n",
       " array([0.99705336]),\n",
       " array([0.00123125]),\n",
       " array([0.96327278]),\n",
       " array([0.04159606]),\n",
       " array([0.00782873]),\n",
       " array([0.9931733]),\n",
       " array([0.99446502]),\n",
       " array([0.0069124]),\n",
       " array([0.00048071]),\n",
       " array([0.00011347]),\n",
       " array([0.0049511]),\n",
       " array([0.99629801]),\n",
       " array([0.93196337]),\n",
       " array([0.96343697]),\n",
       " array([0.01117985]),\n",
       " array([0.99706969]),\n",
       " array([0.01082062]),\n",
       " array([0.99786927]),\n",
       " array([0.90961757]),\n",
       " array([0.00108911]),\n",
       " array([0.04342097]),\n",
       " array([0.99204728]),\n",
       " array([0.99606644]),\n",
       " array([0.0003107]),\n",
       " array([0.99841602]),\n",
       " array([0.98456155]),\n",
       " array([0.01140545]),\n",
       " array([3.36769697e-05]),\n",
       " array([0.99554118]),\n",
       " array([0.00022101]),\n",
       " array([0.01550432]),\n",
       " array([0.9363955]),\n",
       " array([0.0018562]),\n",
       " array([0.0009864]),\n",
       " array([0.00058601]),\n",
       " array([0.00156316]),\n",
       " array([0.99001071]),\n",
       " array([0.9948756]),\n",
       " array([0.00373479]),\n",
       " array([0.01900541]),\n",
       " array([0.91307646]),\n",
       " array([0.99831138]),\n",
       " array([0.99825308]),\n",
       " array([0.02718393]),\n",
       " array([0.54600994]),\n",
       " array([0.03823886]),\n",
       " array([0.5668991]),\n",
       " array([0.96422725]),\n",
       " array([0.91406702]),\n",
       " array([0.00083259]),\n",
       " array([0.00024906]),\n",
       " array([0.00187389]),\n",
       " array([0.97877512]),\n",
       " array([0.00436808]),\n",
       " array([0.99832228]),\n",
       " array([0.00077202]),\n",
       " array([0.98361395]),\n",
       " array([0.03524668]),\n",
       " array([0.001862]),\n",
       " array([0.28653222]),\n",
       " array([0.0047111]),\n",
       " array([0.00024568]),\n",
       " array([0.0004314]),\n",
       " array([0.0007815]),\n",
       " array([0.99389691]),\n",
       " array([0.00432977]),\n",
       " array([0.8958138]),\n",
       " array([0.98441362]),\n",
       " array([0.98662674]),\n",
       " array([0.99842034]),\n",
       " array([0.00081348]),\n",
       " array([0.99210021]),\n",
       " array([0.99752444]),\n",
       " array([0.99876187]),\n",
       " array([0.98784559]),\n",
       " array([0.00183151]),\n",
       " array([0.0087644]),\n",
       " array([0.00158719]),\n",
       " array([0.99249743]),\n",
       " array([0.00016567]),\n",
       " array([0.00323769]),\n",
       " array([0.99784679]),\n",
       " array([0.97812106]),\n",
       " array([0.9886403]),\n",
       " array([0.00084226]),\n",
       " array([0.00181601]),\n",
       " array([0.08740656]),\n",
       " array([0.77720394]),\n",
       " array([0.01522435]),\n",
       " array([0.0015449]),\n",
       " array([0.43275713]),\n",
       " array([0.01083147]),\n",
       " array([0.71058511]),\n",
       " array([1.33274563e-05]),\n",
       " array([0.02580679]),\n",
       " array([1.08320501e-05]),\n",
       " array([0.97430414]),\n",
       " array([0.9955613]),\n",
       " array([0.98584319]),\n",
       " array([0.00646192]),\n",
       " array([0.00397093]),\n",
       " array([0.0261119]),\n",
       " array([0.00681524]),\n",
       " array([0.00203324]),\n",
       " array([0.99471672]),\n",
       " array([0.992911]),\n",
       " array([0.01177653]),\n",
       " array([0.97499418]),\n",
       " array([0.00015156]),\n",
       " array([0.95727892]),\n",
       " array([0.99737543]),\n",
       " array([0.00045131]),\n",
       " array([0.00778515]),\n",
       " array([0.99951897]),\n",
       " array([0.97059711]),\n",
       " array([0.98571608]),\n",
       " array([0.97833928]),\n",
       " array([0.00029672]),\n",
       " array([0.07517518]),\n",
       " array([0.99867652]),\n",
       " array([0.00057248]),\n",
       " array([0.0084257]),\n",
       " array([0.00158688]),\n",
       " array([0.98808644]),\n",
       " array([0.002077]),\n",
       " array([0.00476834]),\n",
       " array([0.99293691]),\n",
       " array([0.9981821]),\n",
       " array([0.98567695]),\n",
       " array([0.00189817]),\n",
       " array([0.99768015]),\n",
       " array([0.00193443]),\n",
       " array([0.86980635]),\n",
       " array([0.02334847]),\n",
       " array([0.99914329]),\n",
       " array([5.36019282e-06]),\n",
       " array([0.99303179]),\n",
       " array([0.99852046]),\n",
       " array([0.0006299]),\n",
       " array([0.00194389]),\n",
       " array([0.6451831]),\n",
       " array([0.02151969]),\n",
       " array([0.22740216]),\n",
       " array([0.01524168]),\n",
       " array([0.99958595]),\n",
       " array([0.99699918]),\n",
       " array([0.69373247]),\n",
       " array([0.39311606]),\n",
       " array([0.00124644]),\n",
       " array([0.99724998]),\n",
       " array([0.99498356]),\n",
       " array([0.95680824]),\n",
       " array([0.01825489]),\n",
       " array([0.97434017]),\n",
       " array([0.99771841]),\n",
       " array([0.97751155]),\n",
       " array([0.00024655]),\n",
       " array([0.00282339]),\n",
       " array([0.76755645]),\n",
       " array([0.8759268]),\n",
       " array([0.00061989]),\n",
       " array([0.04060801]),\n",
       " array([0.97943796]),\n",
       " array([0.98365104]),\n",
       " array([0.00786333]),\n",
       " array([0.0288566]),\n",
       " array([0.011545]),\n",
       " array([0.9945131]),\n",
       " array([0.99953784]),\n",
       " array([0.99599189]),\n",
       " array([0.0197439]),\n",
       " array([0.00097898]),\n",
       " array([0.99815603]),\n",
       " array([0.99987768]),\n",
       " array([0.99784037]),\n",
       " array([0.98921326]),\n",
       " array([0.00218444]),\n",
       " array([0.999076]),\n",
       " array([0.26312444]),\n",
       " array([0.8873929]),\n",
       " array([0.99231097]),\n",
       " array([0.93575704]),\n",
       " array([0.97686489]),\n",
       " array([0.99778599]),\n",
       " array([0.99386762]),\n",
       " array([0.00163948]),\n",
       " array([0.98741838]),\n",
       " array([0.97335232]),\n",
       " array([0.99891084]),\n",
       " array([0.01068332]),\n",
       " array([0.0003412]),\n",
       " array([0.98924584]),\n",
       " array([0.99637489]),\n",
       " array([0.00075965]),\n",
       " array([7.89502246e-06]),\n",
       " array([0.97749297]),\n",
       " array([0.99866123]),\n",
       " array([0.9356337]),\n",
       " array([0.07653678]),\n",
       " array([0.97881413]),\n",
       " array([0.00062517]),\n",
       " array([0.00375659]),\n",
       " array([0.00555231]),\n",
       " array([0.91661741]),\n",
       " array([0.96067763]),\n",
       " array([0.02737707]),\n",
       " array([0.99939963]),\n",
       " array([0.00130107]),\n",
       " array([0.70428042]),\n",
       " array([0.02462223]),\n",
       " array([0.00028802]),\n",
       " array([0.00167653]),\n",
       " array([0.00040896]),\n",
       " array([6.01168446e-05]),\n",
       " array([0.88514097]),\n",
       " array([0.97491158]),\n",
       " array([0.98671834]),\n",
       " array([4.54845291e-05]),\n",
       " array([0.97242671]),\n",
       " array([0.00091611]),\n",
       " array([0.00020123]),\n",
       " array([0.00130263]),\n",
       " array([0.99744581]),\n",
       " array([0.0057225]),\n",
       " array([0.00384112]),\n",
       " array([0.99773952]),\n",
       " array([0.62753867]),\n",
       " array([0.99794216]),\n",
       " array([4.20091118e-05]),\n",
       " array([0.70684768]),\n",
       " array([0.8847767]),\n",
       " array([0.99222875]),\n",
       " array([0.99319716]),\n",
       " array([0.9576407]),\n",
       " array([0.99393152]),\n",
       " array([0.99533205]),\n",
       " array([0.00153963]),\n",
       " array([0.00025089]),\n",
       " array([0.99563771]),\n",
       " array([0.9989839]),\n",
       " array([0.0026945]),\n",
       " array([0.99131339]),\n",
       " array([0.99536931]),\n",
       " array([0.96595838]),\n",
       " array([0.00826356]),\n",
       " array([0.99326057]),\n",
       " array([2.9225513e-05]),\n",
       " array([0.00618698]),\n",
       " array([0.99836914]),\n",
       " array([0.00155985]),\n",
       " array([0.96932693]),\n",
       " array([0.0003829]),\n",
       " array([0.00234323]),\n",
       " array([0.98386212]),\n",
       " array([0.99642111]),\n",
       " array([0.95552253]),\n",
       " array([0.97849636]),\n",
       " array([0.88633189]),\n",
       " array([0.01732573]),\n",
       " array([0.0592348]),\n",
       " array([0.00730023]),\n",
       " array([0.01593075]),\n",
       " array([0.99877908]),\n",
       " array([0.04109143]),\n",
       " array([0.81761878]),\n",
       " array([0.9949261]),\n",
       " array([0.00103338]),\n",
       " array([0.03730888]),\n",
       " array([0.31395584]),\n",
       " array([0.00588901]),\n",
       " array([0.11091907]),\n",
       " array([0.94909351]),\n",
       " array([0.02546194]),\n",
       " array([0.00031388]),\n",
       " array([0.02969049]),\n",
       " array([0.00101381]),\n",
       " array([0.00175353]),\n",
       " array([0.77670779]),\n",
       " array([0.35695852]),\n",
       " array([0.30138231]),\n",
       " array([0.95234391]),\n",
       " array([0.99433384]),\n",
       " array([0.0028908]),\n",
       " array([0.01746049]),\n",
       " array([5.11333906e-05]),\n",
       " array([0.00163406]),\n",
       " array([0.99470807]),\n",
       " array([0.98748743]),\n",
       " array([0.00702925]),\n",
       " array([0.00206041]),\n",
       " array([3.89174676e-05]),\n",
       " array([0.00120359]),\n",
       " array([0.03686109]),\n",
       " array([0.00322148]),\n",
       " array([0.93904548]),\n",
       " array([0.99234996]),\n",
       " array([3.09614345e-05]),\n",
       " array([0.67879775]),\n",
       " array([0.00227375]),\n",
       " array([0.99396323]),\n",
       " array([0.00079152]),\n",
       " array([0.99141765]),\n",
       " array([7.7066804e-05]),\n",
       " array([0.00297798]),\n",
       " array([0.80313921]),\n",
       " array([0.04942148]),\n",
       " array([0.00117706]),\n",
       " array([0.97550204]),\n",
       " array([0.98915754]),\n",
       " array([0.00830336]),\n",
       " array([0.99882813]),\n",
       " array([0.97079679]),\n",
       " array([0.99880923]),\n",
       " array([0.99961781]),\n",
       " array([0.99927522]),\n",
       " array([0.99741461]),\n",
       " array([0.13165724]),\n",
       " array([0.0298993]),\n",
       " array([0.99963224]),\n",
       " array([1.19978897e-05]),\n",
       " array([0.99576178]),\n",
       " array([0.92069013]),\n",
       " array([0.00438456]),\n",
       " array([0.99404828]),\n",
       " array([0.00376102]),\n",
       " array([0.99799343]),\n",
       " array([0.03214574]),\n",
       " array([0.01010448]),\n",
       " array([0.99871697]),\n",
       " array([0.99963201]),\n",
       " array([0.99113242]),\n",
       " array([0.98348106]),\n",
       " array([0.00416783]),\n",
       " array([0.00091796]),\n",
       " array([0.99778049]),\n",
       " array([0.91882535]),\n",
       " array([0.96361514]),\n",
       " array([0.99642809]),\n",
       " array([0.93835562]),\n",
       " array([8.91962791e-05]),\n",
       " array([0.0001083]),\n",
       " array([0.97304344]),\n",
       " array([0.93621293]),\n",
       " array([1.64042645e-05]),\n",
       " array([0.58482647]),\n",
       " array([1.06873746e-05]),\n",
       " array([0.00431204]),\n",
       " array([0.02581898]),\n",
       " array([0.00189809]),\n",
       " array([0.00735465]),\n",
       " array([0.03793384]),\n",
       " array([0.00020797]),\n",
       " array([0.97506637]),\n",
       " array([0.26836807]),\n",
       " array([0.97869527]),\n",
       " array([0.00124765]),\n",
       " array([0.50735332]),\n",
       " array([0.99695075]),\n",
       " array([0.00021292]),\n",
       " array([0.04139477]),\n",
       " array([0.00658906]),\n",
       " array([0.97857934]),\n",
       " array([0.00043245]),\n",
       " array([0.99268111]),\n",
       " array([0.00178355]),\n",
       " array([0.0013144]),\n",
       " array([0.9055889]),\n",
       " array([0.00021748]),\n",
       " array([0.80487813]),\n",
       " array([0.00075386]),\n",
       " array([0.26050531]),\n",
       " array([0.88845876]),\n",
       " array([0.03616311]),\n",
       " array([0.24044603]),\n",
       " array([0.99491578]),\n",
       " array([0.99305691]),\n",
       " array([0.83418467]),\n",
       " array([0.99838129]),\n",
       " array([0.022214]),\n",
       " array([0.99474982]),\n",
       " array([0.96444395]),\n",
       " array([0.99974615]),\n",
       " array([0.94186418]),\n",
       " array([0.02629353]),\n",
       " array([0.99183613]),\n",
       " array([0.01089486]),\n",
       " array([0.36989792]),\n",
       " array([0.00031923]),\n",
       " array([0.08466471]),\n",
       " array([0.9928293]),\n",
       " array([0.0040853]),\n",
       " array([5.5112781e-05]),\n",
       " array([0.97384396]),\n",
       " array([0.00134395]),\n",
       " array([0.00669005]),\n",
       " array([0.00013098]),\n",
       " array([0.999532]),\n",
       " array([0.10440901]),\n",
       " array([0.02113905]),\n",
       " array([0.98466958]),\n",
       " array([0.01672775]),\n",
       " array([0.98673705]),\n",
       " array([0.98130982]),\n",
       " array([0.98689732]),\n",
       " array([0.91365683]),\n",
       " array([7.78366623e-05]),\n",
       " array([0.01091121]),\n",
       " array([0.8989428]),\n",
       " array([0.0002662]),\n",
       " array([0.00174904]),\n",
       " array([0.99899591]),\n",
       " array([0.00354868]),\n",
       " array([1.43022748e-05]),\n",
       " array([0.99403994]),\n",
       " array([0.97821239]),\n",
       " array([0.02484933]),\n",
       " array([0.00246532]),\n",
       " array([0.00019558]),\n",
       " array([0.00580196]),\n",
       " array([0.99816457]),\n",
       " array([0.08588697]),\n",
       " array([0.96118958]),\n",
       " array([0.99385617]),\n",
       " array([0.00141347]),\n",
       " array([0.99793576]),\n",
       " array([0.98109231]),\n",
       " array([0.95439319]),\n",
       " array([0.00015018]),\n",
       " array([0.94664748]),\n",
       " array([0.95801142]),\n",
       " array([0.99031214]),\n",
       " array([0.00426312]),\n",
       " array([0.0004968]),\n",
       " array([0.97067747]),\n",
       " array([0.05365415]),\n",
       " array([0.97221814]),\n",
       " array([0.96086091]),\n",
       " array([0.17584803]),\n",
       " array([0.98176417]),\n",
       " array([0.98558365]),\n",
       " array([0.99926355]),\n",
       " array([0.00780658]),\n",
       " array([0.00035156]),\n",
       " array([0.98867619]),\n",
       " array([0.98545271]),\n",
       " array([0.00104443]),\n",
       " array([0.99583229]),\n",
       " array([0.99876922]),\n",
       " array([0.07958964]),\n",
       " array([0.99953041]),\n",
       " array([0.15894987]),\n",
       " array([0.99919926]),\n",
       " array([0.98836274]),\n",
       " array([0.03804338]),\n",
       " array([0.99776111]),\n",
       " array([0.07155245]),\n",
       " array([0.09738078]),\n",
       " array([0.99094132]),\n",
       " array([0.99587482]),\n",
       " array([0.00019322]),\n",
       " array([0.99479682]),\n",
       " array([0.00036159]),\n",
       " array([0.00960284]),\n",
       " array([0.26064026]),\n",
       " array([0.004854]),\n",
       " array([0.00021578]),\n",
       " array([0.999618]),\n",
       " array([0.90171011]),\n",
       " array([0.9999055]),\n",
       " array([0.98680556]),\n",
       " array([0.04058458]),\n",
       " array([0.99976903]),\n",
       " array([0.00250869]),\n",
       " array([0.14102427]),\n",
       " array([0.00027615]),\n",
       " array([0.97000912]),\n",
       " array([0.00029646]),\n",
       " array([0.05627975]),\n",
       " array([0.9821943]),\n",
       " array([0.95916731]),\n",
       " array([0.0011676]),\n",
       " array([0.01887169]),\n",
       " array([0.99954612]),\n",
       " ...]"
      ]
     },
     "execution_count": 35,
     "metadata": {},
     "output_type": "execute_result"
    }
   ],
   "source": [
    "predicted"
   ]
  },
  {
   "cell_type": "code",
   "execution_count": 36,
   "metadata": {},
   "outputs": [
    {
     "ename": "SyntaxError",
     "evalue": "cannot assign to function call (2452916439.py, line 1)",
     "output_type": "error",
     "traceback": [
      "\u001b[1;36m  Cell \u001b[1;32mIn[36], line 1\u001b[1;36m\u001b[0m\n\u001b[1;33m    pred_res = np.array([round(i[0]) for int(i) in predicted])\u001b[0m\n\u001b[1;37m                                         ^\u001b[0m\n\u001b[1;31mSyntaxError\u001b[0m\u001b[1;31m:\u001b[0m cannot assign to function call\n"
     ]
    }
   ],
   "source": [
    "pred_res = np.array([round(i[0]) for int(i) in predicted])\n",
    "\n",
    "# У нас были вероятности а нужны классы поэтому просто округлим каждое значени и получим лейблы\n",
    "t_lbls = np.array(true_lbls).squeeze() #снимем лишнюю размерность\n",
    "f1 = f1_score(pred_res, t_lbls, average='weighted')\n",
    "print('F1 score is equal to: {0:0.02f}'.format(f1))"
   ]
  },
  {
   "cell_type": "markdown",
   "metadata": {
    "id": "zHg6S-QgN_Mm"
   },
   "source": [
    "# Немного торча"
   ]
  },
  {
   "cell_type": "code",
   "execution_count": 30,
   "metadata": {
    "id": "rWON-EQvN_Mn"
   },
   "outputs": [],
   "source": [
    "import torch"
   ]
  },
  {
   "cell_type": "markdown",
   "metadata": {
    "id": "MYyJMcmQN_Mq"
   },
   "source": [
    "### Мы можем определить нашу модель как последовательность уже существующих слоев, как в керасе"
   ]
  },
  {
   "cell_type": "code",
   "execution_count": 31,
   "metadata": {
    "colab": {
     "base_uri": "https://localhost:8080/"
    },
    "id": "7WkLbwyAN_Mr",
    "outputId": "701a7938-6d56-4870-e967-99302c50b4f5"
   },
   "outputs": [
    {
     "data": {
      "text/plain": [
       "Sequential(\n",
       "  (linear_1): Linear(in_features=784, out_features=256, bias=True)\n",
       "  (relu): ReLU()\n",
       "  (linear_2): Linear(in_features=256, out_features=1, bias=True)\n",
       "  (sigmoid): Sigmoid()\n",
       ")"
      ]
     },
     "execution_count": 31,
     "metadata": {},
     "output_type": "execute_result"
    }
   ],
   "source": [
    "model = torch.nn.Sequential()\n",
    "\n",
    "model.add_module(name='linear_1', module=torch.nn.Linear(in_features=784, out_features=256))\n",
    "model.add_module(name='relu', module=torch.nn.ReLU())\n",
    "model.add_module(name='linear_2', module=torch.nn.Linear(in_features=256, out_features=1))\n",
    "model.add_module(name='sigmoid', module=torch.nn.Sigmoid())\n",
    "\n",
    "model"
   ]
  },
  {
   "cell_type": "markdown",
   "metadata": {
    "id": "xFnSynhmN_Mw"
   },
   "source": [
    "### Либо так"
   ]
  },
  {
   "cell_type": "code",
   "execution_count": 32,
   "metadata": {
    "colab": {
     "base_uri": "https://localhost:8080/"
    },
    "id": "NjBXbnSNN_Mx",
    "outputId": "8fc4430a-67b3-410d-b201-2a076d03c67a"
   },
   "outputs": [
    {
     "data": {
      "text/plain": [
       "Sequential(\n",
       "  (0): Linear(in_features=784, out_features=256, bias=True)\n",
       "  (1): ReLU()\n",
       "  (2): Linear(in_features=256, out_features=1, bias=True)\n",
       "  (3): Sigmoid()\n",
       ")"
      ]
     },
     "execution_count": 32,
     "metadata": {},
     "output_type": "execute_result"
    }
   ],
   "source": [
    "model = torch.nn.Sequential(\n",
    "    torch.nn.Linear(in_features=784, out_features=256),\n",
    "    torch.nn.ReLU(),\n",
    "    torch.nn.Linear(in_features=256, out_features=1),\n",
    "    torch.nn.Sigmoid()\n",
    ")\n",
    "\n",
    "model"
   ]
  },
  {
   "cell_type": "markdown",
   "metadata": {
    "id": "MKOnBBifN_M1"
   },
   "source": [
    "## А вот для чего нужно было писать в домашке классы\n",
    "## Для определения своих моделей/слоев/чего вам захочется нам нужно сделать такую структуру"
   ]
  },
  {
   "cell_type": "code",
   "execution_count": 33,
   "metadata": {
    "id": "iNXM6WnUN_M9"
   },
   "outputs": [],
   "source": [
    "# наследуемся от класса torch.nn.Module\n",
    "class MLP(torch.nn.Module):\n",
    "    \n",
    "    # определяем метод __init__\n",
    "    # он нужен для того, чтобы мы могли определить нужные нам слои, веса, сохраняемые операции\n",
    "    # \n",
    "    # передаем ссылку на самого себя первым параметром\n",
    "    # \n",
    "    # определяем любые другие передаваемые аргументы\n",
    "    # могут быть чем угодно: числа, словари, другие слои, другие модели и вообще все что угодно\n",
    "    # \n",
    "    def __init__(self, in_features, inner_features, out_features):\n",
    "        \n",
    "        # Главная задача этого метода - возможность использования в классе потомке, методов класса-родителя\n",
    "        # Вызываем __init__ родителя - torch.nn.Module\n",
    "        super().__init__()\n",
    "        \n",
    "        # определяем слои и все что захотим сохранять/использовать\n",
    "        self.linear_1 = torch.nn.Linear(in_features=in_features, out_features=inner_features)\n",
    "        self.non_linear_function = torch.nn.ReLU()\n",
    "        self.linear_2 = torch.nn.Linear(in_features=inner_features, out_features=out_features)\n",
    "        self.sigmoid = torch.nn.Sigmoid()\n",
    "        \n",
    "    # нам нужно обязательно реализовать метод forward\n",
    "    # это то, что нашей модели нужно делать, как оперировать с входными данными, как рассчитывать\n",
    "    # метод backward нам не нужно реализовывать, потому что в торче есть автоматическое дифференцирование\n",
    "    # главное, чтобы наши операции были дифференцируемы\n",
    "    # некоторые подробности можете узнать здесь:\n",
    "    # https://pytorch.org/tutorials/beginner/blitz/autograd_tutorial.html#sphx-glr-beginner-blitz-autograd-tutorial-py\n",
    "    # также список доступных дифференцируемых операций можете посмотреть здесь:\n",
    "    # https://pytorch.org/docs/stable/tensors.html\n",
    "    def forward(self, x):\n",
    "        \n",
    "        # наша привычная схема\n",
    "        x = self.linear_1(x)\n",
    "        x = self.non_linear_function(x)\n",
    "        x = self.linear_2(x)\n",
    "        x = self.sigmoid(x)\n",
    "        \n",
    "        return x\n",
    "    \n",
    "    # мы также можем реализовать любые другие полезные нам методы внутри класса"
   ]
  },
  {
   "cell_type": "code",
   "execution_count": 34,
   "metadata": {
    "id": "Ftetvx8MN_NA"
   },
   "outputs": [],
   "source": [
    "# определяем нашу модель\n",
    "model = MLP(in_features=784, inner_features=256, out_features=1)"
   ]
  },
  {
   "cell_type": "code",
   "execution_count": 35,
   "metadata": {
    "colab": {
     "base_uri": "https://localhost:8080/"
    },
    "id": "G3zivrXiN_ND",
    "outputId": "c9cc05c0-44ca-4bd6-d7bd-2207123cf41b",
    "scrolled": true
   },
   "outputs": [
    {
     "data": {
      "text/plain": [
       "MLP(\n",
       "  (linear_1): Linear(in_features=784, out_features=256, bias=True)\n",
       "  (non_linear_function): ReLU()\n",
       "  (linear_2): Linear(in_features=256, out_features=1, bias=True)\n",
       "  (sigmoid): Sigmoid()\n",
       ")"
      ]
     },
     "execution_count": 35,
     "metadata": {},
     "output_type": "execute_result"
    }
   ],
   "source": [
    "model"
   ]
  },
  {
   "cell_type": "code",
   "execution_count": 36,
   "metadata": {
    "colab": {
     "base_uri": "https://localhost:8080/"
    },
    "id": "pa4BG_t_N_NG",
    "outputId": "ac7dbe4a-e253-4ba5-f5ee-8da36cd5b715"
   },
   "outputs": [
    {
     "data": {
      "text/plain": [
       "torch.Size([256, 784])"
      ]
     },
     "execution_count": 36,
     "metadata": {},
     "output_type": "execute_result"
    }
   ],
   "source": [
    "# можем посмотреть веса\n",
    "model.linear_1.weight.shape"
   ]
  },
  {
   "cell_type": "code",
   "execution_count": 37,
   "metadata": {
    "id": "n2hPqcyxN_NQ"
   },
   "outputs": [],
   "source": [
    "# еще нам нужно задать функцию потерь \n",
    "criterion = torch.nn.BCELoss()"
   ]
  },
  {
   "cell_type": "code",
   "execution_count": 38,
   "metadata": {
    "id": "IEpYutCqN_Na"
   },
   "outputs": [],
   "source": [
    "# и оптимизатор, куда нужно передать параметры модели\n",
    "# параметры модели можно взять методом класса .parameters()\n",
    "optimizer = torch.optim.SGD(params=model.parameters(), lr=0.01)"
   ]
  },
  {
   "cell_type": "code",
   "execution_count": 39,
   "metadata": {
    "colab": {
     "base_uri": "https://localhost:8080/"
    },
    "id": "V-ssB6KsN_Nf",
    "outputId": "2538defa-f558-49d4-8103-e415be2c4d62"
   },
   "outputs": [
    {
     "data": {
      "text/plain": [
       "[Parameter containing:\n",
       " tensor([[-0.0337, -0.0315, -0.0275,  ..., -0.0050,  0.0156,  0.0146],\n",
       "         [-0.0177, -0.0348,  0.0117,  ...,  0.0165,  0.0254,  0.0206],\n",
       "         [ 0.0281, -0.0144,  0.0099,  ...,  0.0212, -0.0083,  0.0354],\n",
       "         ...,\n",
       "         [-0.0018,  0.0314, -0.0109,  ..., -0.0186,  0.0315,  0.0226],\n",
       "         [ 0.0265, -0.0285, -0.0188,  ..., -0.0066, -0.0310, -0.0114],\n",
       "         [-0.0192, -0.0135, -0.0173,  ...,  0.0042, -0.0274, -0.0287]],\n",
       "        requires_grad=True),\n",
       " Parameter containing:\n",
       " tensor([ 2.1577e-02, -1.4068e-02, -1.1027e-02, -1.6346e-02,  8.0760e-03,\n",
       "          1.2210e-02,  3.3782e-02, -3.3975e-02, -1.2033e-02, -2.6032e-02,\n",
       "         -5.8795e-03,  2.1887e-02, -1.4883e-02,  8.7682e-03, -2.3493e-02,\n",
       "         -8.0772e-03, -2.2605e-02,  3.4896e-02, -6.2348e-03,  1.8848e-02,\n",
       "          1.5410e-02,  8.4518e-03, -8.4846e-03,  2.6276e-02,  5.6142e-03,\n",
       "         -9.9394e-03,  4.8294e-03, -3.0909e-02, -2.6152e-02, -1.7089e-03,\n",
       "          4.8565e-03,  2.0910e-02,  2.2345e-02, -2.4554e-02,  2.2108e-02,\n",
       "          3.1798e-02, -1.9558e-02, -2.2793e-02, -1.5864e-02,  2.6146e-02,\n",
       "         -3.5245e-02, -1.9252e-02, -2.3334e-02, -5.2479e-03,  2.9771e-02,\n",
       "         -1.5816e-02, -1.9237e-02, -1.5075e-02,  3.0067e-02, -2.8153e-02,\n",
       "          3.4540e-02, -1.6854e-03, -3.2142e-02,  4.8232e-04, -2.2148e-02,\n",
       "          3.5390e-02,  1.6767e-02,  1.4534e-02, -9.2809e-03,  2.3613e-02,\n",
       "         -3.2814e-02, -3.5474e-02,  5.5041e-04, -1.3267e-02, -6.8678e-03,\n",
       "         -1.7349e-03,  7.8007e-03,  2.3865e-02,  1.7610e-02, -1.9528e-02,\n",
       "         -5.6770e-03,  6.1491e-03, -3.3807e-02,  2.2029e-02, -8.8823e-03,\n",
       "          2.9629e-02,  2.8692e-03, -3.0582e-02,  2.5324e-02, -2.1063e-02,\n",
       "         -2.2438e-02,  8.2101e-03, -2.4220e-02, -1.1981e-02, -2.8835e-03,\n",
       "          3.1200e-02, -2.2585e-02, -1.0380e-02,  3.8457e-04,  3.5062e-02,\n",
       "          9.6457e-03,  8.7404e-03,  1.5416e-02,  2.7970e-02, -3.5611e-02,\n",
       "          3.5118e-02, -1.4060e-02, -2.3030e-02, -1.9500e-02, -1.7378e-02,\n",
       "         -1.0887e-02, -2.7228e-02, -1.5775e-03,  1.8896e-02,  2.3312e-02,\n",
       "          2.5510e-03, -3.5002e-02, -2.5164e-02,  2.3231e-02, -2.9039e-02,\n",
       "         -2.1411e-02, -1.4386e-02,  1.4509e-02,  1.2034e-02,  1.1043e-02,\n",
       "         -3.3117e-04, -2.4002e-02, -8.5690e-03,  2.6145e-03, -6.4439e-03,\n",
       "         -1.0423e-02, -2.4284e-02, -5.8941e-03,  6.0768e-03,  3.1412e-04,\n",
       "          1.5280e-02, -1.6376e-02,  3.2808e-02, -2.0823e-03, -5.0393e-03,\n",
       "         -2.7695e-02, -1.6085e-02,  1.0919e-02, -1.6129e-02,  2.3660e-02,\n",
       "          1.7772e-02, -2.6030e-02, -8.2538e-03, -2.6889e-02,  1.7513e-02,\n",
       "         -2.8749e-02, -2.7679e-02, -2.4938e-02,  9.6131e-03,  3.3565e-02,\n",
       "         -2.8373e-02,  1.1795e-04,  3.3980e-02,  9.5308e-03,  1.5786e-02,\n",
       "          4.3562e-03,  2.2112e-02, -1.4944e-02, -1.8238e-02, -1.3699e-02,\n",
       "         -1.4121e-02, -1.4174e-03,  1.6378e-02, -1.8381e-02, -2.2780e-03,\n",
       "          2.9439e-02, -2.4258e-02, -1.0170e-02, -5.5226e-03,  3.0051e-02,\n",
       "          3.3027e-02, -4.9227e-03,  3.1907e-02, -1.6448e-02, -2.9440e-02,\n",
       "          3.4009e-02,  3.2580e-02, -3.9502e-03, -1.6467e-02, -3.5161e-02,\n",
       "          2.3067e-05,  1.0568e-02,  9.2451e-03,  2.4851e-02,  1.9111e-02,\n",
       "         -1.7390e-02, -1.8708e-02,  3.3551e-02,  3.3538e-02, -1.5341e-02,\n",
       "          2.1917e-03,  2.5457e-02, -1.4309e-02,  3.0561e-02,  1.9731e-02,\n",
       "          1.7526e-02, -1.4427e-02, -3.2879e-02,  2.5398e-02, -7.5585e-04,\n",
       "         -4.6455e-03, -3.2685e-02, -2.5832e-02, -1.3457e-02, -3.3895e-02,\n",
       "          3.3857e-02,  2.8935e-04, -2.2080e-02,  1.6682e-02, -1.8530e-02,\n",
       "         -1.7619e-02, -9.7769e-04, -1.6750e-02,  2.8729e-03,  2.3421e-02,\n",
       "          3.0232e-02, -1.9065e-02, -8.1385e-04, -5.8875e-03,  3.0649e-02,\n",
       "         -3.2445e-02,  1.4630e-02,  6.0416e-03,  1.1314e-02, -2.0024e-03,\n",
       "         -1.7593e-02,  9.4543e-03,  3.2106e-02, -1.6576e-02, -1.1675e-02,\n",
       "         -7.0513e-04, -8.5706e-03, -5.1093e-04, -1.5235e-03,  7.0823e-03,\n",
       "          2.5581e-02, -2.1970e-02, -3.5428e-02, -2.7111e-02,  4.8482e-03,\n",
       "         -3.4305e-02,  2.5042e-03, -3.0763e-02, -3.1239e-02, -4.5753e-03,\n",
       "         -2.9734e-02,  3.3313e-02,  2.7963e-02, -1.6334e-02, -3.2168e-02,\n",
       "          7.6468e-03,  2.4823e-03, -1.6061e-02,  1.5989e-02, -5.2732e-03,\n",
       "          2.8400e-02,  1.1437e-02, -1.8790e-02, -5.5302e-03,  1.9144e-02,\n",
       "         -6.3758e-03], requires_grad=True),\n",
       " Parameter containing:\n",
       " tensor([[-0.0369, -0.0181, -0.0228, -0.0093, -0.0083,  0.0605,  0.0135,  0.0295,\n",
       "           0.0522,  0.0034, -0.0389,  0.0036, -0.0044, -0.0232, -0.0604,  0.0586,\n",
       "           0.0005, -0.0555,  0.0587,  0.0144,  0.0086,  0.0408, -0.0371, -0.0293,\n",
       "           0.0099,  0.0614, -0.0419, -0.0595, -0.0601, -0.0234,  0.0379,  0.0590,\n",
       "          -0.0503, -0.0045,  0.0370,  0.0497,  0.0534,  0.0406,  0.0103,  0.0413,\n",
       "          -0.0213,  0.0285, -0.0462, -0.0587,  0.0304,  0.0573, -0.0458, -0.0065,\n",
       "           0.0091,  0.0178, -0.0560,  0.0477, -0.0471, -0.0492,  0.0592,  0.0394,\n",
       "           0.0252,  0.0005,  0.0263,  0.0339,  0.0120,  0.0148, -0.0208, -0.0487,\n",
       "          -0.0052,  0.0183, -0.0521,  0.0411,  0.0236,  0.0419,  0.0260,  0.0365,\n",
       "           0.0120, -0.0109,  0.0454,  0.0349,  0.0570,  0.0340, -0.0333, -0.0508,\n",
       "          -0.0167,  0.0211,  0.0456, -0.0617,  0.0203,  0.0498,  0.0188, -0.0191,\n",
       "          -0.0439,  0.0564, -0.0242,  0.0359, -0.0137,  0.0517, -0.0510,  0.0614,\n",
       "          -0.0154, -0.0539, -0.0292,  0.0157,  0.0609, -0.0579, -0.0565,  0.0152,\n",
       "           0.0547, -0.0154, -0.0144,  0.0037,  0.0111, -0.0306, -0.0023,  0.0070,\n",
       "          -0.0295,  0.0389,  0.0503, -0.0170,  0.0415, -0.0585, -0.0603, -0.0235,\n",
       "           0.0016,  0.0028,  0.0142,  0.0588, -0.0130,  0.0502,  0.0399, -0.0418,\n",
       "           0.0581, -0.0548,  0.0019,  0.0463, -0.0436, -0.0431, -0.0421,  0.0323,\n",
       "          -0.0271, -0.0301,  0.0255, -0.0499,  0.0277,  0.0517, -0.0392, -0.0020,\n",
       "          -0.0107,  0.0617,  0.0282,  0.0160, -0.0325,  0.0307, -0.0470, -0.0466,\n",
       "          -0.0086,  0.0121, -0.0264, -0.0530, -0.0201, -0.0373,  0.0518,  0.0495,\n",
       "          -0.0258,  0.0372, -0.0354, -0.0137, -0.0548, -0.0344,  0.0139,  0.0224,\n",
       "           0.0196, -0.0412,  0.0177, -0.0392,  0.0294,  0.0523, -0.0151, -0.0158,\n",
       "          -0.0178,  0.0439,  0.0600,  0.0584,  0.0620,  0.0547, -0.0197,  0.0396,\n",
       "           0.0541,  0.0420, -0.0280, -0.0037, -0.0244, -0.0514, -0.0250,  0.0254,\n",
       "           0.0457,  0.0153, -0.0030, -0.0438, -0.0409, -0.0546,  0.0397,  0.0184,\n",
       "           0.0097, -0.0421,  0.0403, -0.0333,  0.0432,  0.0010,  0.0312,  0.0088,\n",
       "           0.0611, -0.0420, -0.0458, -0.0604,  0.0365,  0.0165,  0.0341,  0.0464,\n",
       "          -0.0019,  0.0085,  0.0514,  0.0547, -0.0339, -0.0604, -0.0374,  0.0039,\n",
       "          -0.0560,  0.0571, -0.0520,  0.0001, -0.0227, -0.0290,  0.0215, -0.0348,\n",
       "          -0.0451,  0.0109, -0.0287,  0.0230,  0.0044, -0.0430,  0.0051,  0.0572,\n",
       "          -0.0288, -0.0618,  0.0410, -0.0589,  0.0303, -0.0604, -0.0563, -0.0241,\n",
       "           0.0491,  0.0345, -0.0314, -0.0515,  0.0328,  0.0366, -0.0386, -0.0545]],\n",
       "        requires_grad=True),\n",
       " Parameter containing:\n",
       " tensor([0.0176], requires_grad=True)]"
      ]
     },
     "execution_count": 39,
     "metadata": {},
     "output_type": "execute_result"
    }
   ],
   "source": [
    "# можем посмотреть на параметры нашей модели\n",
    "params = list(model.parameters())\n",
    "params"
   ]
  },
  {
   "cell_type": "markdown",
   "metadata": {
    "id": "5dnDbvw0N_No"
   },
   "source": [
    "# Обучим нашу модель"
   ]
  },
  {
   "cell_type": "code",
   "execution_count": 40,
   "metadata": {
    "colab": {
     "base_uri": "https://localhost:8080/",
     "height": 235
    },
    "id": "O8ayasdLN_Np",
    "outputId": "562e950a-927e-4dfa-971f-4248c56b5a9a"
   },
   "outputs": [],
   "source": [
    "# давайте сохранять значения нашей функции потерь каждую итерацию обучения\n",
    "losses = []\n",
    "\n",
    "# эта штука все еще отдает нам батчи данных\n",
    "# мы поговорим про нее позже\n",
    "for x, y in train_loader:\n",
    "\n",
    "    x = x.view(x.shape[0], -1)\n",
    "    y = y.unsqueeze(1).float()\n",
    "    \n",
    "    # обновим наши градиенты\n",
    "    # будем делать это каждую итерацию обучения\n",
    "    # потому что торч сохраняет в себе все градиенты пока не удалите таким образом рассчитанные градиенты\n",
    "    # \n",
    "    # НЕОБЯЗАТЕЛЬНЫЕ ДЕТАЛИ\n",
    "    # функция сохранения градиентов нужна для аккамуляции градиентов\n",
    "    # например, когда нам не хватает памяти на большой батч\n",
    "    # мы можем несколько раз прогнать forward на разных батчах\n",
    "    # наши градиенты будут сохраняться\n",
    "    # и только потом обновить через несколько итераций forward обновить наши веса\n",
    "    # таким образом у нас получается больше батч\n",
    "    # \n",
    "    optimizer.zero_grad()\n",
    "    \n",
    "    # \n",
    "    # предсказание нашей модели\n",
    "    # здесь торч сам сохраняет необходимую информацию\n",
    "    # чтобы понять эту логику у нас как раз и была часть домашки про собственные классы\n",
    "    # \n",
    "    # торч строит динамический граф вычислений\n",
    "    # то есть строит граф по тем операциям, которые вы определили в методе forward\n",
    "    # \n",
    "    # то есть торч понимает, что вы сначала применили линейное преобразование\n",
    "    # знает, где лежат веса для этого линейного преобразования\n",
    "    # знает, что вы затем применили релу\n",
    "    # затем опять линейное преобразование\n",
    "    # затем сигмоиду\n",
    "    # и вот таким образом торч выстроил граф\n",
    "    # который нужен будет для backpropogation\n",
    "    # \n",
    "    pred = model(x)\n",
    "    \n",
    "    # \n",
    "    # рассчитываем функцию потерь, добавляя в наш граф вычислений этот узел\n",
    "    # \n",
    "    loss = criterion(pred, y.float())\n",
    "    \n",
    "    # \n",
    "    # вызываем метод backward() от нашей функции потерь (это крайний узел нашего графа вычислений)\n",
    "    # этот метод проходит от конца графа в начало, вычисляя необходимые градиенты\n",
    "    # передаем градиенты на следующие узлы\n",
    "    # для весов сохраняет\n",
    "    # \n",
    "    # то есть это почти то же самое, что мы делали в домашке с классами\n",
    "    # \n",
    "    loss.backward()\n",
    "    \n",
    "    # \n",
    "    # теперь мы знаем необходимые градиенты и можем обновить веса с помощью градиентного спуска\n",
    "    # \n",
    "    optimizer.step()\n",
    "    \n",
    "    # \n",
    "    # сохраним текущее значение функции потерь, чтобы потом могли посмотреть на график\n",
    "    # очень важный момент: нам нужно отсоединить значение нашей фунции потерь от графа вычислений\n",
    "    # чтобы граф не строился дальше на каждой итерации обучения\n",
    "    # так мы рано или поздно переполним память\n",
    "    # поэтому вызываем этот метод\n",
    "    # работает для скаляров\n",
    "    # \n",
    "    # для тензоров работает метод .tolist()\n",
    "    # \n",
    "    current_loss_value = loss.item()\n",
    "    losses.append(loss.item())"
   ]
  },
  {
   "cell_type": "code",
   "execution_count": 41,
   "metadata": {
    "id": "KhopLN33N_Nw"
   },
   "outputs": [],
   "source": [
    "# Одна эпоха прошла"
   ]
  },
  {
   "cell_type": "code",
   "execution_count": 42,
   "metadata": {
    "colab": {
     "base_uri": "https://localhost:8080/",
     "height": 235
    },
    "id": "SIGFnAeMN_Nz",
    "outputId": "e225e2b2-28dd-4ffa-d8b6-fd42ebca2e08"
   },
   "outputs": [
    {
     "data": {
      "image/png": "[encoded data removed]",
      "text/plain": [
       "<Figure size 1400x1200 with 1 Axes>"
      ]
     },
     "metadata": {},
     "output_type": "display_data"
    }
   ],
   "source": [
    "plt.figure(figsize=(14, 12))\n",
    "plt.plot(losses)\n",
    "plt.grid()\n",
    "plt.title('Training process')\n",
    "plt.xlabel('Iterations')\n",
    "plt.ylabel('Loss function');"
   ]
  },
  {
   "cell_type": "markdown",
   "metadata": {
    "id": "8oBFJlYrN_N3"
   },
   "source": [
    "# Теперь мы можем что-то предсказать"
   ]
  },
  {
   "cell_type": "code",
   "execution_count": 43,
   "metadata": {
    "id": "pYQ-5cXnN_N4"
   },
   "outputs": [],
   "source": [
    "for x, y in test_loader:\n",
    "\n",
    "    x = x.view(x.shape[0], -1)\n",
    "    y = y.unsqueeze(1).float()\n",
    "    \n",
    "    # чтобы не ходить по всему тестовому датасету, прекратим ходить после первой итерации\n",
    "    break"
   ]
  },
  {
   "cell_type": "code",
   "execution_count": 44,
   "metadata": {
    "id": "Rb3ImXPNN_N_",
    "outputId": "a9ea50e8-2230-4b85-b1e2-d75408597581"
   },
   "outputs": [
    {
     "data": {
      "text/plain": [
       "torch.Size([128, 784])"
      ]
     },
     "execution_count": 44,
     "metadata": {},
     "output_type": "execute_result"
    }
   ],
   "source": [
    "x.shape"
   ]
  },
  {
   "cell_type": "code",
   "execution_count": 45,
   "metadata": {
    "id": "5V_GO6_zN_OE",
    "outputId": "b12de3e1-6478-42b4-82a4-230411f251a6"
   },
   "outputs": [
    {
     "data": {
      "text/plain": [
       "torch.Size([128, 1])"
      ]
     },
     "execution_count": 45,
     "metadata": {},
     "output_type": "execute_result"
    }
   ],
   "source": [
    "y.shape"
   ]
  },
  {
   "cell_type": "code",
   "execution_count": 46,
   "metadata": {
    "id": "_zHM8GRpN_OG",
    "outputId": "1526be79-e75b-4b8f-c7e0-771c0e7960ba"
   },
   "outputs": [
    {
     "data": {
      "text/plain": [
       "MLP(\n",
       "  (linear_1): Linear(in_features=784, out_features=256, bias=True)\n",
       "  (non_linear_function): ReLU()\n",
       "  (linear_2): Linear(in_features=256, out_features=1, bias=True)\n",
       "  (sigmoid): Sigmoid()\n",
       ")"
      ]
     },
     "execution_count": 46,
     "metadata": {},
     "output_type": "execute_result"
    }
   ],
   "source": [
    "# переходим в режим предсказания\n",
    "# \n",
    "# позже в курсе мы разберем зачем конкретно это нужно\n",
    "# \n",
    "# для искушенного нетерпеливого читателя: дропаут больше не дропаутит, батч норм больше не нормирует каждый батч\n",
    "# а использует накопленную статистику при обучении и тд\n",
    "# \n",
    "model.eval()"
   ]
  },
  {
   "cell_type": "code",
   "execution_count": 47,
   "metadata": {
    "id": "CT4N0ZAPN_OI"
   },
   "outputs": [],
   "source": [
    "# этот контект позволяет не сохранять необходимую информацию для рассчета градиентов\n",
    "with torch.no_grad():\n",
    "\n",
    "    pred = model(x)"
   ]
  },
  {
   "cell_type": "code",
   "execution_count": 48,
   "metadata": {
    "id": "R48ZI_iJN_OK",
    "outputId": "193d89f9-61e1-4a96-8445-7b47d57ff8d1"
   },
   "outputs": [
    {
     "data": {
      "text/plain": [
       "torch.Size([128, 1])"
      ]
     },
     "execution_count": 48,
     "metadata": {},
     "output_type": "execute_result"
    }
   ],
   "source": [
    "pred.shape"
   ]
  },
  {
   "cell_type": "code",
   "execution_count": 49,
   "metadata": {
    "id": "Azbcidg1N_OM"
   },
   "outputs": [],
   "source": [
    "# избавимся от единичной размерности\n",
    "pred = pred.squeeze()\n",
    "y = y.squeeze()"
   ]
  },
  {
   "cell_type": "code",
   "execution_count": 50,
   "metadata": {
    "id": "L7zm8vzBN_OO",
    "outputId": "67f0fe47-50f7-44c8-9148-701fdec25e1f"
   },
   "outputs": [
    {
     "data": {
      "text/plain": [
       "torch.Size([128])"
      ]
     },
     "execution_count": 50,
     "metadata": {},
     "output_type": "execute_result"
    }
   ],
   "source": [
    "pred.shape"
   ]
  },
  {
   "cell_type": "code",
   "execution_count": 51,
   "metadata": {
    "id": "JBARJLDIN_OT"
   },
   "outputs": [],
   "source": [
    "# таким образом из торчовых тензоров мы можем сделать нумпаевские массивы\n",
    "pred = pred.numpy()\n",
    "y = y.numpy()"
   ]
  },
  {
   "cell_type": "code",
   "execution_count": 52,
   "metadata": {
    "id": "8Y4gi0q7N_OZ",
    "outputId": "a170d0d4-c6a8-408e-c3bf-1148de786113"
   },
   "outputs": [
    {
     "data": {
      "text/plain": [
       "array([1., 1., 0., 1., 0., 0., 1., 1., 1., 0., 0., 1., 0., 1., 0., 1., 1.,\n",
       "       0., 1., 1., 1., 1., 0., 0., 0., 1., 1., 0., 1., 1., 1., 1., 1., 0.,\n",
       "       1., 0., 1., 0., 1., 0., 0., 0., 0., 0., 1., 1., 1., 0., 0., 1., 1.,\n",
       "       0., 1., 1., 1., 1., 0., 1., 1., 1., 0., 0., 0., 0., 1., 0., 0., 1.,\n",
       "       0., 0., 1., 0., 1., 0., 0., 1., 0., 0., 1., 1., 1., 1., 0., 1., 0.,\n",
       "       0., 0., 0., 0., 0., 1., 1., 0., 1., 0., 0., 0., 1., 0., 1., 0., 0.,\n",
       "       0., 0., 0., 1., 1., 1., 1., 0., 0., 0., 0., 0., 0., 1., 1., 0., 0.,\n",
       "       1., 0., 1., 1., 0., 1., 0., 0., 1.], dtype=float32)"
      ]
     },
     "execution_count": 52,
     "metadata": {},
     "output_type": "execute_result"
    }
   ],
   "source": [
    "y"
   ]
  },
  {
   "cell_type": "code",
   "execution_count": 53,
   "metadata": {
    "id": "QPlZdMfiN_Og",
    "outputId": "3673c2d3-fffe-4112-97d7-a31c06691daa"
   },
   "outputs": [
    {
     "data": {
      "text/plain": [
       "numpy.ndarray"
      ]
     },
     "execution_count": 53,
     "metadata": {},
     "output_type": "execute_result"
    }
   ],
   "source": [
    "type(y)"
   ]
  },
  {
   "cell_type": "code",
   "execution_count": 54,
   "metadata": {
    "id": "Ck7Voa7HN_Ok"
   },
   "outputs": [],
   "source": [
    "# бинаризируем наши предсказания\n",
    "pred[pred > 0.5] = 1\n",
    "pred[pred <= 0.5] = 0"
   ]
  },
  {
   "cell_type": "code",
   "execution_count": 55,
   "metadata": {
    "id": "Ts85uzXFN_Om",
    "outputId": "62122006-ec73-4b48-ccb2-ca6ad01d42a2"
   },
   "outputs": [
    {
     "data": {
      "text/plain": [
       "0.9609375"
      ]
     },
     "execution_count": 55,
     "metadata": {},
     "output_type": "execute_result"
    }
   ],
   "source": [
    "# посчитаем метрику на батче\n",
    "accuracy_score(y, pred)"
   ]
  },
  {
   "cell_type": "code",
   "execution_count": 56,
   "metadata": {
    "id": "yoynJ1-2N_Op"
   },
   "outputs": [],
   "source": [
    "# заново определим нашу модель и выучимся несколько эпох\n",
    "# будут уже новые параметры\n",
    "model = MLP(in_features=784, inner_features=256, out_features=1)\n",
    "\n",
    "criterion = torch.nn.BCELoss()\n",
    "# мы позже поговорим про этот оптимизационный алгоритм\n",
    "optimizer = torch.optim.Adam(params=model.parameters())"
   ]
  },
  {
   "cell_type": "markdown",
   "metadata": {
    "id": "hzBgaRe7N_Os"
   },
   "source": [
    "# Типичный цикл обучения с кучей сохранений лоссов"
   ]
  },
  {
   "cell_type": "code",
   "execution_count": 57,
   "metadata": {
    "id": "1zO6ruQbN_Ot",
    "outputId": "7d4304f2-a0f5-4c08-bd00-098719fe4df9"
   },
   "outputs": [
    {
     "name": "stderr",
     "output_type": "stream",
     "text": [
      "Epoch 1: 100%|██████████████████████████████████████████████| 12396/12396 [00:02<00:00, 5687.82it/s, train_loss=0.0658]\n"
     ]
    },
    {
     "name": "stdout",
     "output_type": "stream",
     "text": [
      "Losses: train - 0.066, test = 0.052\n",
      "Test: accuracy - 0.981\n"
     ]
    },
    {
     "name": "stderr",
     "output_type": "stream",
     "text": [
      "Epoch 2: 100%|██████████████████████████████████████████████| 12396/12396 [00:02<00:00, 5912.08it/s, train_loss=0.0272]\n"
     ]
    },
    {
     "name": "stdout",
     "output_type": "stream",
     "text": [
      "Losses: train - 0.027, test = 0.029\n",
      "Test: accuracy - 0.988\n"
     ]
    },
    {
     "name": "stderr",
     "output_type": "stream",
     "text": [
      "Epoch 3: 100%|██████████████████████████████████████████████| 12396/12396 [00:02<00:00, 5810.65it/s, train_loss=0.0162]\n"
     ]
    },
    {
     "name": "stdout",
     "output_type": "stream",
     "text": [
      "Losses: train - 0.016, test = 0.030\n",
      "Test: accuracy - 0.991\n",
      "Early stopping\n"
     ]
    }
   ],
   "source": [
    "epochs = 10\n",
    "losses = []\n",
    "# нужно для early stopping, то есть трекать лучший лосс на валидации\n",
    "best_test_loss = 10.\n",
    "\n",
    "for n_epoch in range(epochs):\n",
    "    \n",
    "    train_losses = []\n",
    "    test_losses = []\n",
    "    test_preds = []\n",
    "    test_targets = []\n",
    "    \n",
    "    progress_bar = tqdm(total=len(train_loader.dataset), desc='Epoch {}'.format(n_epoch + 1))\n",
    "    \n",
    "    for x, y in train_loader:\n",
    "        \n",
    "        x = x.view(x.shape[0], -1)\n",
    "        y = y.unsqueeze(1).float()\n",
    "        \n",
    "        optimizer.zero_grad()\n",
    "        \n",
    "        pred = model(x)\n",
    "        \n",
    "        loss = criterion(pred, y.float())\n",
    "        \n",
    "        loss.backward()\n",
    "        \n",
    "        optimizer.step()\n",
    "        \n",
    "        train_losses.append(loss.item())\n",
    "        losses.append(loss.item())\n",
    "        \n",
    "        progress_bar.set_postfix(train_loss = np.mean(losses[-100:]))\n",
    "\n",
    "        progress_bar.update(x.shape[0])\n",
    "        \n",
    "    progress_bar.close()\n",
    "    \n",
    "    for x, y in test_loader:\n",
    "        \n",
    "        x = x.view(x.shape[0], -1)\n",
    "        y = y.unsqueeze(1).float()\n",
    "\n",
    "        with torch.no_grad():\n",
    "            \n",
    "            pred = model(x)\n",
    "            \n",
    "        test_preds.append(pred.numpy())\n",
    "        test_targets.append(y.numpy())\n",
    "\n",
    "        loss = criterion(pred, y)\n",
    "\n",
    "        test_losses.append(loss.item())\n",
    "        \n",
    "    mean_test_loss = np.mean(test_losses)\n",
    "        \n",
    "    print('Losses: train - {:.3f}, test = {:.3f}'.format(np.mean(train_losses), mean_test_loss))\n",
    "    \n",
    "    test_preds = np.concatenate(test_preds)\n",
    "    test_preds = test_preds.squeeze()\n",
    "    test_targets = np.concatenate(test_targets).squeeze()\n",
    "    \n",
    "    test_preds[test_preds > 0.5] = 1\n",
    "    test_preds[test_preds <= 0.5] = 0\n",
    "    \n",
    "    accurary = accuracy_score(test_targets, test_preds)\n",
    "\n",
    "    print('Test: accuracy - {:.3f}'.format(accurary))\n",
    "        \n",
    "    # как раз early stopping\n",
    "    # то есть: если наша функция потерь на валидационном датасете стала расти, то прекращаем обучение\n",
    "    # рост фунции потерь на валидационном датасете говорит о переобучении\n",
    "    # пожалуй, самый популярный метод валидации для нейронных сетей\n",
    "    if mean_test_loss < best_test_loss:\n",
    "        best_test_loss = mean_test_loss\n",
    "    else:\n",
    "        print('Early stopping')\n",
    "        break    "
   ]
  },
  {
   "cell_type": "code",
   "execution_count": 58,
   "metadata": {
    "id": "U4URcBJPN_Ow",
    "outputId": "c5b2dd03-5307-4d95-80e5-99a3b65a3f65"
   },
   "outputs": [
    {
     "data": {
      "image/png": "[encoded data removed]",
      "text/plain": [
       "<Figure size 1400x1200 with 1 Axes>"
      ]
     },
     "metadata": {},
     "output_type": "display_data"
    }
   ],
   "source": [
    "plt.figure(figsize=(14, 12))\n",
    "plt.plot(losses)\n",
    "plt.grid()\n",
    "plt.title('Training process')\n",
    "plt.xlabel('Iterations')\n",
    "plt.ylabel('Loss function');"
   ]
  }
 ],
 "metadata": {
  "accelerator": "GPU",
  "colab": {
   "name": "Homework1Part1.ipynb",
   "provenance": []
  },
  "kernelspec": {
   "display_name": "Python 3 (ipykernel)",
   "language": "python",
   "name": "python3"
  },
  "language_info": {
   "codemirror_mode": {
    "name": "ipython",
    "version": 3
   },
   "file_extension": ".py",
   "mimetype": "text/x-python",
   "name": "python",
   "nbconvert_exporter": "python",
   "pygments_lexer": "ipython3",
   "version": "3.11.4"
  }
 },
 "nbformat": 4,
 "nbformat_minor": 4
}

{
 "cells": [
  {
   "cell_type": "code",
   "execution_count": 1,
   "metadata": {},
   "outputs": [],
   "source": [
    "import json\n",
    "import random\n",
    "from tqdm import tqdm\n",
    "import numpy as np\n",
    "\n",
    "from matplotlib import pyplot as plt\n",
    "from sklearn.decomposition import TruncatedSVD\n",
    "from sklearn.manifold import TSNE\n",
    "\n",
    "import torch\n",
    "\n",
    "from pylab import rcParams\n",
    "rcParams['figure.figsize'] = 15, 15"
   ]
  },
  {
   "cell_type": "markdown",
   "metadata": {},
   "source": [
    "# Что делать?\n",
    "Где есть пометка # CODE писать код\n",
    "\n",
    "[Полезный туториал](http://jalammar.github.io/illustrated-word2vec/)"
   ]
  },
  {
   "cell_type": "markdown",
   "metadata": {},
   "source": [
    "# Загружаем данные\n",
    "Они уже обработанные и токенизированные. Процесс можно посмотреть в тетрадке 1.1 Processing corpus"
   ]
  },
  {
   "cell_type": "code",
   "execution_count": 2,
   "metadata": {},
   "outputs": [],
   "source": [
    "with open('processed_corpus.json', encoding = 'utf-8') as f:\n",
    "    corpus = json.load(f)"
   ]
  },
  {
   "cell_type": "code",
   "execution_count": 3,
   "metadata": {},
   "outputs": [
    {
     "data": {
      "text/plain": [
       "100000"
      ]
     },
     "execution_count": 3,
     "metadata": {},
     "output_type": "execute_result"
    }
   ],
   "source": [
    "len(corpus)"
   ]
  },
  {
   "cell_type": "code",
   "execution_count": 4,
   "metadata": {},
   "outputs": [
    {
     "name": "stdout",
     "output_type": "stream",
     "text": [
      "второй UNK год окончательно разочаровать решить податься альфабанк\n",
      "вернуть денежный средство лицевой счёт либо зачесть счёт погашение кредит\n",
      "притом ситуация решиться участие течение сутки заявить\n",
      "мой ##число летний жизнь это самый неповоротливый работник банк который видеть\n",
      "везде написать вклад принимать очередь это\n"
     ]
    }
   ],
   "source": [
    "for text in corpus[:5]:\n",
    "    print(' '.join(text))"
   ]
  },
  {
   "cell_type": "markdown",
   "metadata": {},
   "source": [
    "# CBOW"
   ]
  },
  {
   "cell_type": "code",
   "execution_count": 5,
   "metadata": {},
   "outputs": [],
   "source": [
    "sample_text = corpus[1]"
   ]
  },
  {
   "cell_type": "code",
   "execution_count": 6,
   "metadata": {},
   "outputs": [
    {
     "data": {
      "text/plain": [
       "'вернуть денежный средство лицевой счёт либо зачесть счёт погашение кредит'"
      ]
     },
     "execution_count": 6,
     "metadata": {},
     "output_type": "execute_result"
    }
   ],
   "source": [
    "' '.join(sample_text)"
   ]
  },
  {
   "cell_type": "markdown",
   "metadata": {},
   "source": [
    "# Реализуйте разделение предложения на примеры методом CBOW"
   ]
  },
  {
   "cell_type": "code",
   "execution_count": 7,
   "metadata": {},
   "outputs": [],
   "source": [
    "def cbow_split(tokens, window, pad_token='PAD'):\n",
    "    \n",
    "    splits = []\n",
    "    \n",
    "    # CODE\n",
    "    for i in range(len(tokens)):\n",
    "        n_left = [pad_token] * max((window - i), 0) \n",
    "        left = [pad_token]*len(n_left) + tokens[i-window+len(n_left):i] \n",
    "        token =  tokens[i]\n",
    "        right = tokens[i+1:i+1+window]\n",
    "        n_right = [pad_token] * (window - len(right))\n",
    "        right += n_right\n",
    "        splits.append((left, token, right))\n",
    "        \n",
    "    return splits"
   ]
  },
  {
   "cell_type": "code",
   "execution_count": 10,
   "metadata": {},
   "outputs": [],
   "source": [
    "splits = cbow_split(sample_text, window=2)"
   ]
  },
  {
   "cell_type": "code",
   "execution_count": 11,
   "metadata": {},
   "outputs": [
    {
     "name": "stdout",
     "output_type": "stream",
     "text": [
      "Левый контекст: ['PAD', 'PAD']\n",
      "Центральное слово: вернуть\n",
      "Правый контекст: ['денежный', 'средство']\n",
      "\n",
      "Левый контекст: ['PAD', 'вернуть']\n",
      "Центральное слово: денежный\n",
      "Правый контекст: ['средство', 'лицевой']\n",
      "\n",
      "Левый контекст: ['вернуть', 'денежный']\n",
      "Центральное слово: средство\n",
      "Правый контекст: ['лицевой', 'счёт']\n",
      "\n",
      "Левый контекст: ['денежный', 'средство']\n",
      "Центральное слово: лицевой\n",
      "Правый контекст: ['счёт', 'либо']\n",
      "\n",
      "Левый контекст: ['средство', 'лицевой']\n",
      "Центральное слово: счёт\n",
      "Правый контекст: ['либо', 'зачесть']\n",
      "\n",
      "Левый контекст: ['лицевой', 'счёт']\n",
      "Центральное слово: либо\n",
      "Правый контекст: ['зачесть', 'счёт']\n",
      "\n",
      "Левый контекст: ['счёт', 'либо']\n",
      "Центральное слово: зачесть\n",
      "Правый контекст: ['счёт', 'погашение']\n",
      "\n",
      "Левый контекст: ['либо', 'зачесть']\n",
      "Центральное слово: счёт\n",
      "Правый контекст: ['погашение', 'кредит']\n",
      "\n",
      "Левый контекст: ['зачесть', 'счёт']\n",
      "Центральное слово: погашение\n",
      "Правый контекст: ['кредит', 'PAD']\n",
      "\n",
      "Левый контекст: ['счёт', 'погашение']\n",
      "Центральное слово: кредит\n",
      "Правый контекст: ['PAD', 'PAD']\n",
      "\n"
     ]
    }
   ],
   "source": [
    "for sample in splits:\n",
    "    print('Левый контекст:', sample[0])\n",
    "    print('Центральное слово:', sample[1])\n",
    "    print('Правый контекст:', sample[2], end='\\n\\n')"
   ]
  },
  {
   "cell_type": "code",
   "execution_count": 12,
   "metadata": {},
   "outputs": [
    {
     "data": {
      "text/plain": [
       "[(['PAD', 'PAD'], 'вернуть', ['денежный', 'средство']),\n",
       " (['PAD', 'вернуть'], 'денежный', ['средство', 'лицевой']),\n",
       " (['вернуть', 'денежный'], 'средство', ['лицевой', 'счёт']),\n",
       " (['денежный', 'средство'], 'лицевой', ['счёт', 'либо']),\n",
       " (['средство', 'лицевой'], 'счёт', ['либо', 'зачесть']),\n",
       " (['лицевой', 'счёт'], 'либо', ['зачесть', 'счёт']),\n",
       " (['счёт', 'либо'], 'зачесть', ['счёт', 'погашение']),\n",
       " (['либо', 'зачесть'], 'счёт', ['погашение', 'кредит']),\n",
       " (['зачесть', 'счёт'], 'погашение', ['кредит', 'PAD']),\n",
       " (['счёт', 'погашение'], 'кредит', ['PAD', 'PAD'])]"
      ]
     },
     "execution_count": 12,
     "metadata": {},
     "output_type": "execute_result"
    }
   ],
   "source": [
    "splits"
   ]
  },
  {
   "cell_type": "markdown",
   "metadata": {},
   "source": [
    "# Expected\n",
    "\n",
    "```python\n",
    "[(['PAD', 'PAD'], 'вопрос', ['почему', 'например']),\n",
    " (['PAD', 'вопрос'], 'почему', ['например', 'китайский']),\n",
    " (['вопрос', 'почему'], 'например', ['китайский', 'японский']),\n",
    " (['почему', 'например'], 'китайский', ['японский', 'UNK']),\n",
    " (['например', 'китайский'], 'японский', ['UNK', 'PAD']),\n",
    " (['китайский', 'японский'], 'UNK', ['PAD', 'PAD'])]\n",
    "```"
   ]
  },
  {
   "cell_type": "code",
   "execution_count": 13,
   "metadata": {},
   "outputs": [
    {
     "data": {
      "text/plain": [
       "[(['PAD', 'PAD', 'PAD'], 'вернуть', ['денежный', 'средство', 'лицевой']),\n",
       " (['PAD', 'PAD', 'вернуть'], 'денежный', ['средство', 'лицевой', 'счёт']),\n",
       " (['PAD', 'вернуть', 'денежный'], 'средство', ['лицевой', 'счёт', 'либо']),\n",
       " (['вернуть', 'денежный', 'средство'], 'лицевой', ['счёт', 'либо', 'зачесть']),\n",
       " (['денежный', 'средство', 'лицевой'], 'счёт', ['либо', 'зачесть', 'счёт']),\n",
       " (['средство', 'лицевой', 'счёт'], 'либо', ['зачесть', 'счёт', 'погашение']),\n",
       " (['лицевой', 'счёт', 'либо'], 'зачесть', ['счёт', 'погашение', 'кредит']),\n",
       " (['счёт', 'либо', 'зачесть'], 'счёт', ['погашение', 'кредит', 'PAD']),\n",
       " (['либо', 'зачесть', 'счёт'], 'погашение', ['кредит', 'PAD', 'PAD']),\n",
       " (['зачесть', 'счёт', 'погашение'], 'кредит', ['PAD', 'PAD', 'PAD'])]"
      ]
     },
     "execution_count": 13,
     "metadata": {},
     "output_type": "execute_result"
    }
   ],
   "source": [
    "cbow_split(sample_text, window=3)"
   ]
  },
  {
   "cell_type": "markdown",
   "metadata": {},
   "source": [
    "# Expected\n",
    "\n",
    "```python\n",
    "[(['PAD', 'PAD', 'PAD'], 'вопрос', ['почему', 'например', 'китайский']),\n",
    " (['PAD', 'PAD', 'вопрос'], 'почему', ['например', 'китайский', 'японский']),\n",
    " (['PAD', 'вопрос', 'почему'], 'например', ['китайский', 'японский', 'UNK']),\n",
    " (['вопрос', 'почему', 'например'], 'китайский', ['японский', 'UNK', 'PAD']),\n",
    " (['почему', 'например', 'китайский'], 'японский', ['UNK', 'PAD', 'PAD']),\n",
    " (['например', 'китайский', 'японский'], 'UNK', ['PAD', 'PAD', 'PAD'])]\n",
    "```"
   ]
  },
  {
   "cell_type": "markdown",
   "metadata": {},
   "source": [
    "# Skipgram"
   ]
  },
  {
   "cell_type": "code",
   "execution_count": 14,
   "metadata": {},
   "outputs": [
    {
     "data": {
      "text/plain": [
       "'вернуть денежный средство лицевой счёт либо зачесть счёт погашение кредит'"
      ]
     },
     "execution_count": 14,
     "metadata": {},
     "output_type": "execute_result"
    }
   ],
   "source": [
    "' '.join(sample_text)"
   ]
  },
  {
   "cell_type": "markdown",
   "metadata": {},
   "source": [
    "# Реализуйте разделение предложения на примеры методом Skipgram"
   ]
  },
  {
   "cell_type": "code",
   "execution_count": 15,
   "metadata": {},
   "outputs": [],
   "source": [
    "def skipgram_split(tokens, window):\n",
    "    \n",
    "    splits = []\n",
    "    \n",
    "    # CODE\n",
    "    for i, word in enumerate(tokens):\n",
    "        for k in range(1, window + 1):\n",
    "            if i-k >= 0:  \n",
    "                splits.append((tokens[i-k], tokens[i]))\n",
    "            if i+k < len(tokens):\n",
    "                splits.append((tokens[i+k], tokens[i]))\n",
    "    \n",
    "    \n",
    "    return splits"
   ]
  },
  {
   "cell_type": "code",
   "execution_count": 16,
   "metadata": {},
   "outputs": [],
   "source": [
    "splits = skipgram_split(sample_text, window=2)"
   ]
  },
  {
   "cell_type": "code",
   "execution_count": 17,
   "metadata": {},
   "outputs": [
    {
     "name": "stdout",
     "output_type": "stream",
     "text": [
      "Контекст: денежный\n",
      "Центральное слово: вернуть\n",
      "\n",
      "Контекст: средство\n",
      "Центральное слово: вернуть\n",
      "\n",
      "Контекст: вернуть\n",
      "Центральное слово: денежный\n",
      "\n",
      "Контекст: средство\n",
      "Центральное слово: денежный\n",
      "\n",
      "Контекст: лицевой\n",
      "Центральное слово: денежный\n",
      "\n",
      "Контекст: денежный\n",
      "Центральное слово: средство\n",
      "\n",
      "Контекст: лицевой\n",
      "Центральное слово: средство\n",
      "\n",
      "Контекст: вернуть\n",
      "Центральное слово: средство\n",
      "\n",
      "Контекст: счёт\n",
      "Центральное слово: средство\n",
      "\n",
      "Контекст: средство\n",
      "Центральное слово: лицевой\n",
      "\n",
      "Контекст: счёт\n",
      "Центральное слово: лицевой\n",
      "\n",
      "Контекст: денежный\n",
      "Центральное слово: лицевой\n",
      "\n",
      "Контекст: либо\n",
      "Центральное слово: лицевой\n",
      "\n",
      "Контекст: лицевой\n",
      "Центральное слово: счёт\n",
      "\n",
      "Контекст: либо\n",
      "Центральное слово: счёт\n",
      "\n",
      "Контекст: средство\n",
      "Центральное слово: счёт\n",
      "\n",
      "Контекст: зачесть\n",
      "Центральное слово: счёт\n",
      "\n",
      "Контекст: счёт\n",
      "Центральное слово: либо\n",
      "\n",
      "Контекст: зачесть\n",
      "Центральное слово: либо\n",
      "\n",
      "Контекст: лицевой\n",
      "Центральное слово: либо\n",
      "\n",
      "Контекст: счёт\n",
      "Центральное слово: либо\n",
      "\n",
      "Контекст: либо\n",
      "Центральное слово: зачесть\n",
      "\n",
      "Контекст: счёт\n",
      "Центральное слово: зачесть\n",
      "\n",
      "Контекст: счёт\n",
      "Центральное слово: зачесть\n",
      "\n",
      "Контекст: погашение\n",
      "Центральное слово: зачесть\n",
      "\n",
      "Контекст: зачесть\n",
      "Центральное слово: счёт\n",
      "\n",
      "Контекст: погашение\n",
      "Центральное слово: счёт\n",
      "\n",
      "Контекст: либо\n",
      "Центральное слово: счёт\n",
      "\n",
      "Контекст: кредит\n",
      "Центральное слово: счёт\n",
      "\n",
      "Контекст: счёт\n",
      "Центральное слово: погашение\n",
      "\n",
      "Контекст: кредит\n",
      "Центральное слово: погашение\n",
      "\n",
      "Контекст: зачесть\n",
      "Центральное слово: погашение\n",
      "\n",
      "Контекст: погашение\n",
      "Центральное слово: кредит\n",
      "\n",
      "Контекст: счёт\n",
      "Центральное слово: кредит\n",
      "\n"
     ]
    }
   ],
   "source": [
    "for sample in splits:\n",
    "    print('Контекст:', sample[0])\n",
    "    print('Центральное слово:', sample[1], end='\\n\\n')"
   ]
  },
  {
   "cell_type": "code",
   "execution_count": 241,
   "metadata": {},
   "outputs": [
    {
     "data": {
      "text/plain": [
       "[('денежный', 'вернуть'),\n",
       " ('средство', 'вернуть'),\n",
       " ('вернуть', 'денежный'),\n",
       " ('средство', 'денежный'),\n",
       " ('лицевой', 'денежный'),\n",
       " ('денежный', 'средство'),\n",
       " ('лицевой', 'средство'),\n",
       " ('вернуть', 'средство'),\n",
       " ('счёт', 'средство'),\n",
       " ('средство', 'лицевой'),\n",
       " ('счёт', 'лицевой'),\n",
       " ('денежный', 'лицевой'),\n",
       " ('либо', 'лицевой'),\n",
       " ('лицевой', 'счёт'),\n",
       " ('либо', 'счёт'),\n",
       " ('средство', 'счёт'),\n",
       " ('зачесть', 'счёт'),\n",
       " ('счёт', 'либо'),\n",
       " ('зачесть', 'либо'),\n",
       " ('лицевой', 'либо'),\n",
       " ('счёт', 'либо'),\n",
       " ('либо', 'зачесть'),\n",
       " ('счёт', 'зачесть'),\n",
       " ('счёт', 'зачесть'),\n",
       " ('погашение', 'зачесть'),\n",
       " ('зачесть', 'счёт'),\n",
       " ('погашение', 'счёт'),\n",
       " ('либо', 'счёт'),\n",
       " ('кредит', 'счёт'),\n",
       " ('счёт', 'погашение'),\n",
       " ('кредит', 'погашение'),\n",
       " ('зачесть', 'погашение'),\n",
       " ('погашение', 'кредит'),\n",
       " ('счёт', 'кредит')]"
      ]
     },
     "execution_count": 241,
     "metadata": {},
     "output_type": "execute_result"
    }
   ],
   "source": [
    "skipgram_split(sample_text, window=2)"
   ]
  },
  {
   "cell_type": "markdown",
   "metadata": {},
   "source": [
    "# Expected\n",
    "\n",
    "```python\n",
    "[('почему', 'вопрос'),\n",
    " ('например', 'вопрос'),\n",
    " ('вопрос', 'почему'),\n",
    " ('например', 'почему'),\n",
    " ('китайский', 'почему'),\n",
    " ('вопрос', 'например'),\n",
    " ('почему', 'например'),\n",
    " ('китайский', 'например'),\n",
    " ('японский', 'например'),\n",
    " ('почему', 'китайский'),\n",
    " ('например', 'китайский'),\n",
    " ('японский', 'китайский'),\n",
    " ('UNK', 'китайский'),\n",
    " ('например', 'японский'),\n",
    " ('китайский', 'японский'),\n",
    " ('UNK', 'японский'),\n",
    " ('китайский', 'UNK'),\n",
    " ('японский', 'UNK')]\n",
    "```"
   ]
  },
  {
   "cell_type": "code",
   "execution_count": 18,
   "metadata": {},
   "outputs": [
    {
     "data": {
      "text/plain": [
       "[('денежный', 'вернуть'),\n",
       " ('средство', 'вернуть'),\n",
       " ('лицевой', 'вернуть'),\n",
       " ('вернуть', 'денежный'),\n",
       " ('средство', 'денежный'),\n",
       " ('лицевой', 'денежный'),\n",
       " ('счёт', 'денежный'),\n",
       " ('денежный', 'средство'),\n",
       " ('лицевой', 'средство'),\n",
       " ('вернуть', 'средство'),\n",
       " ('счёт', 'средство'),\n",
       " ('либо', 'средство'),\n",
       " ('средство', 'лицевой'),\n",
       " ('счёт', 'лицевой'),\n",
       " ('денежный', 'лицевой'),\n",
       " ('либо', 'лицевой'),\n",
       " ('вернуть', 'лицевой'),\n",
       " ('зачесть', 'лицевой'),\n",
       " ('лицевой', 'счёт'),\n",
       " ('либо', 'счёт'),\n",
       " ('средство', 'счёт'),\n",
       " ('зачесть', 'счёт'),\n",
       " ('денежный', 'счёт'),\n",
       " ('счёт', 'счёт'),\n",
       " ('счёт', 'либо'),\n",
       " ('зачесть', 'либо'),\n",
       " ('лицевой', 'либо'),\n",
       " ('счёт', 'либо'),\n",
       " ('средство', 'либо'),\n",
       " ('погашение', 'либо'),\n",
       " ('либо', 'зачесть'),\n",
       " ('счёт', 'зачесть'),\n",
       " ('счёт', 'зачесть'),\n",
       " ('погашение', 'зачесть'),\n",
       " ('лицевой', 'зачесть'),\n",
       " ('кредит', 'зачесть'),\n",
       " ('зачесть', 'счёт'),\n",
       " ('погашение', 'счёт'),\n",
       " ('либо', 'счёт'),\n",
       " ('кредит', 'счёт'),\n",
       " ('счёт', 'счёт'),\n",
       " ('счёт', 'погашение'),\n",
       " ('кредит', 'погашение'),\n",
       " ('зачесть', 'погашение'),\n",
       " ('либо', 'погашение'),\n",
       " ('погашение', 'кредит'),\n",
       " ('счёт', 'кредит'),\n",
       " ('зачесть', 'кредит')]"
      ]
     },
     "execution_count": 18,
     "metadata": {},
     "output_type": "execute_result"
    }
   ],
   "source": [
    "skipgram_split(sample_text, window=3)"
   ]
  },
  {
   "cell_type": "markdown",
   "metadata": {},
   "source": [
    "# Expected\n",
    "\n",
    "```python\n",
    "[('почему', 'вопрос'),\n",
    " ('например', 'вопрос'),\n",
    " ('китайский', 'вопрос'),\n",
    " ('вопрос', 'почему'),\n",
    " ('например', 'почему'),\n",
    " ('китайский', 'почему'),\n",
    " ('японский', 'почему'),\n",
    " ('вопрос', 'например'),\n",
    " ('почему', 'например'),\n",
    " ('китайский', 'например'),\n",
    " ('японский', 'например'),\n",
    " ('UNK', 'например'),\n",
    " ('вопрос', 'китайский'),\n",
    " ('почему', 'китайский'),\n",
    " ('например', 'китайский'),\n",
    " ('японский', 'китайский'),\n",
    " ('UNK', 'китайский'),\n",
    " ('почему', 'японский'),\n",
    " ('например', 'японский'),\n",
    " ('китайский', 'японский'),\n",
    " ('UNK', 'японский'),\n",
    " ('например', 'UNK'),\n",
    " ('китайский', 'UNK'),\n",
    " ('японский', 'UNK')]\n",
    "```"
   ]
  },
  {
   "cell_type": "code",
   "execution_count": 19,
   "metadata": {},
   "outputs": [],
   "source": [
    "word2index = {}\n",
    "\n",
    "for text in corpus:\n",
    "    for token in text:\n",
    "        if token not in word2index:\n",
    "            word2index[token] = len(word2index)"
   ]
  },
  {
   "cell_type": "code",
   "execution_count": 20,
   "metadata": {},
   "outputs": [
    {
     "data": {
      "text/plain": [
       "13076"
      ]
     },
     "execution_count": 20,
     "metadata": {},
     "output_type": "execute_result"
    }
   ],
   "source": [
    "len(word2index)"
   ]
  },
  {
   "cell_type": "code",
   "execution_count": 21,
   "metadata": {},
   "outputs": [
    {
     "data": {
      "text/plain": [
       "1"
      ]
     },
     "execution_count": 21,
     "metadata": {},
     "output_type": "execute_result"
    }
   ],
   "source": [
    "word2index['UNK']"
   ]
  },
  {
   "cell_type": "code",
   "execution_count": 22,
   "metadata": {},
   "outputs": [
    {
     "data": {
      "text/plain": [
       "[1282, 8436, 1]"
      ]
     },
     "execution_count": 22,
     "metadata": {},
     "output_type": "execute_result"
    }
   ],
   "source": [
    "[word2index[tok] if tok in word2index else word2index['UNK'] for tok in 'мама мыть рама'.split()]"
   ]
  },
  {
   "cell_type": "markdown",
   "metadata": {},
   "source": [
    "# Torch Dataset\n",
    "В торче есть очень удобная читалка данных"
   ]
  },
  {
   "cell_type": "code",
   "execution_count": 23,
   "metadata": {},
   "outputs": [],
   "source": [
    "from torch.utils.data import Dataset, DataLoader"
   ]
  },
  {
   "cell_type": "code",
   "execution_count": 24,
   "metadata": {},
   "outputs": [],
   "source": [
    "# игрушечный датасет\n",
    "# 121535 примера, 4 фичи, 3 класса\n",
    "some_data_x = np.random.rand(121535, 4)\n",
    "some_data_y = np.random.randint(3, size=(121535,))"
   ]
  },
  {
   "cell_type": "code",
   "execution_count": 25,
   "metadata": {},
   "outputs": [
    {
     "data": {
      "text/plain": [
       "array([[0.87748381, 0.41759042, 0.64851429, 0.55739653],\n",
       "       [0.91259715, 0.69207824, 0.91491953, 0.6627401 ],\n",
       "       [0.81446603, 0.5194646 , 0.39391106, 0.93571479],\n",
       "       [0.28925198, 0.21770324, 0.60241383, 0.83589621],\n",
       "       [0.98856669, 0.26634641, 0.74515343, 0.78294759],\n",
       "       [0.02195876, 0.66159002, 0.74803292, 0.60920275],\n",
       "       [0.19889638, 0.55694307, 0.17578895, 0.12462092],\n",
       "       [0.81127932, 0.41328277, 0.51403065, 0.34562606],\n",
       "       [0.70612541, 0.2268257 , 0.88176484, 0.0538033 ],\n",
       "       [0.61797857, 0.23631967, 0.75806182, 0.82893243]])"
      ]
     },
     "execution_count": 25,
     "metadata": {},
     "output_type": "execute_result"
    }
   ],
   "source": [
    "# соверешенно игрушечный, просто цифры\n",
    "some_data_x[:10]"
   ]
  },
  {
   "cell_type": "code",
   "execution_count": 26,
   "metadata": {},
   "outputs": [
    {
     "data": {
      "text/plain": [
       "array([1, 1, 0, ..., 2, 1, 2])"
      ]
     },
     "execution_count": 26,
     "metadata": {},
     "output_type": "execute_result"
    }
   ],
   "source": [
    "some_data_y"
   ]
  },
  {
   "cell_type": "code",
   "execution_count": 27,
   "metadata": {},
   "outputs": [],
   "source": [
    "class ToyDataset(Dataset):\n",
    "    \n",
    "    def __init__(self, data_x, data_y):\n",
    "        \n",
    "        super().__init__()\n",
    "        \n",
    "        self.data_x = data_x\n",
    "        self.data_y = data_y\n",
    "        \n",
    "    def __len__(self):\n",
    "        \n",
    "        # Нужно обязательно определить эту функцию\n",
    "        # Должна возвращать размер датасета\n",
    "        \n",
    "        return len(self.data_x)\n",
    "    \n",
    "    def __getitem__(self, idx):\n",
    "        \n",
    "        # Еще нужно определить этот метод\n",
    "        # То есть как мы будем доставать наши данные по индексу\n",
    "        \n",
    "        return self.data_x[idx], self.data_y[idx]"
   ]
  },
  {
   "cell_type": "code",
   "execution_count": 28,
   "metadata": {},
   "outputs": [],
   "source": [
    "some_dataset = ToyDataset(some_data_x, some_data_y)"
   ]
  },
  {
   "cell_type": "code",
   "execution_count": 29,
   "metadata": {},
   "outputs": [
    {
     "data": {
      "text/plain": [
       "((array([0.02195876, 0.66159002, 0.74803292, 0.60920275]), 1),\n",
       " (array([0.21077651, 0.4910808 , 0.92599694, 0.46234655]), 1))"
      ]
     },
     "execution_count": 29,
     "metadata": {},
     "output_type": "execute_result"
    }
   ],
   "source": [
    "some_dataset[5], some_dataset[467]"
   ]
  },
  {
   "cell_type": "code",
   "execution_count": 30,
   "metadata": {},
   "outputs": [],
   "source": [
    "some_loader = DataLoader(some_dataset, batch_size=16, shuffle=True)"
   ]
  },
  {
   "cell_type": "code",
   "execution_count": 31,
   "metadata": {},
   "outputs": [
    {
     "data": {
      "text/plain": [
       "(16,\n",
       " tensor([[0.9700, 0.1712, 0.9169, 0.5274],\n",
       "         [0.3474, 0.7077, 0.3090, 0.7394],\n",
       "         [0.1323, 0.7495, 0.1660, 0.7552],\n",
       "         [0.0344, 0.1800, 0.3362, 0.0632],\n",
       "         [0.3911, 0.3328, 0.9880, 0.9020],\n",
       "         [0.2387, 0.0681, 0.2404, 0.5562],\n",
       "         [0.3205, 0.3678, 0.6154, 0.5067],\n",
       "         [0.1414, 0.2948, 0.3491, 0.4095],\n",
       "         [0.3674, 0.8126, 0.7302, 0.8672],\n",
       "         [0.9481, 0.0730, 0.7651, 0.5545],\n",
       "         [0.6331, 0.4384, 0.0353, 0.1690],\n",
       "         [0.4822, 0.1890, 0.8371, 0.1179],\n",
       "         [0.0241, 0.1607, 0.0841, 0.1880],\n",
       "         [0.8960, 0.8137, 0.4959, 0.7193],\n",
       "         [0.4951, 0.1847, 0.7879, 0.1679],\n",
       "         [0.1835, 0.9514, 0.6930, 0.0802]], dtype=torch.float64))"
      ]
     },
     "execution_count": 31,
     "metadata": {},
     "output_type": "execute_result"
    }
   ],
   "source": [
    "for x, y in some_loader:\n",
    "    break\n",
    "    \n",
    "len(x), x"
   ]
  },
  {
   "cell_type": "code",
   "execution_count": 32,
   "metadata": {},
   "outputs": [
    {
     "data": {
      "text/plain": [
       "15"
      ]
     },
     "execution_count": 32,
     "metadata": {},
     "output_type": "execute_result"
    }
   ],
   "source": [
    "for x, y in some_loader:\n",
    "    pass\n",
    "\n",
    "len(x)"
   ]
  },
  {
   "cell_type": "code",
   "execution_count": 33,
   "metadata": {},
   "outputs": [
    {
     "data": {
      "text/plain": [
       "15"
      ]
     },
     "execution_count": 33,
     "metadata": {},
     "output_type": "execute_result"
    }
   ],
   "source": [
    "# почему 13?\n",
    "# потому что количество наших данных нацело не делится на 16\n",
    "# и поэтому последний батч меньше 16-ти\n",
    "len(some_dataset) % 16"
   ]
  },
  {
   "cell_type": "markdown",
   "metadata": {},
   "source": [
    "# А зачем?"
   ]
  },
  {
   "cell_type": "code",
   "execution_count": 34,
   "metadata": {},
   "outputs": [],
   "source": [
    "class ToyDataset(Dataset):\n",
    "    \n",
    "    def __init__(self, data_x, data_y):\n",
    "        \n",
    "        super().__init__()\n",
    "        \n",
    "        self.data_x = data_x\n",
    "        self.data_y = data_y\n",
    "        \n",
    "    def __len__(self):\n",
    "        \n",
    "        # Нужно обязательно определить эту функцию\n",
    "        # Должна возвращать размер датасета\n",
    "        \n",
    "        return len(self.data_x)\n",
    "    \n",
    "    @staticmethod\n",
    "    def add_pow_features(x, n=2):\n",
    "        \n",
    "        return np.concatenate([x, x ** n]) \n",
    "    \n",
    "    @staticmethod\n",
    "    def add_log_features(x):\n",
    "        \n",
    "        return np.concatenate([x, np.log(x)]) \n",
    "    \n",
    "    def __getitem__(self, idx):\n",
    "        \n",
    "        # Еще нужно определить этот метод\n",
    "        # То есть как мы будем доставать наши данные по индексу\n",
    "        \n",
    "        x = self.data_x[idx]\n",
    "        \n",
    "        # внутри датасета мы можем делать все что угодно с нашими данными\n",
    "        # например выше определим функции, которые добавляют степенные фичи\n",
    "        x = self.add_pow_features(x, n=2)\n",
    "        x = self.add_pow_features(x, n=3)\n",
    "        # и еще возьмем логарифмические фичи\n",
    "        x = self.add_log_features(x)\n",
    "        \n",
    "        y = self.data_y[idx]\n",
    "        \n",
    "        return x, y"
   ]
  },
  {
   "cell_type": "code",
   "execution_count": 35,
   "metadata": {},
   "outputs": [],
   "source": [
    "toy_dataset = ToyDataset(some_data_x, some_data_y)"
   ]
  },
  {
   "cell_type": "code",
   "execution_count": 36,
   "metadata": {},
   "outputs": [],
   "source": [
    "toy_loader = DataLoader(dataset=toy_dataset, batch_size=128)"
   ]
  },
  {
   "cell_type": "code",
   "execution_count": 37,
   "metadata": {},
   "outputs": [],
   "source": [
    "for x, y in toy_loader:\n",
    "    break"
   ]
  },
  {
   "cell_type": "code",
   "execution_count": 38,
   "metadata": {},
   "outputs": [
    {
     "data": {
      "text/plain": [
       "torch.Size([128, 32])"
      ]
     },
     "execution_count": 38,
     "metadata": {},
     "output_type": "execute_result"
    }
   ],
   "source": [
    "x.shape"
   ]
  },
  {
   "cell_type": "code",
   "execution_count": 39,
   "metadata": {},
   "outputs": [
    {
     "data": {
      "text/plain": [
       "tensor([[  0.8775,   0.4176,   0.6485,  ...,  -5.2395,  -2.5984,  -3.5069],\n",
       "        [  0.9126,   0.6921,   0.9149,  ...,  -2.2083,  -0.5335,  -2.4682],\n",
       "        [  0.8145,   0.5195,   0.3939,  ...,  -3.9297,  -5.5898,  -0.3987],\n",
       "        ...,\n",
       "        [  0.7220,   0.2822,   0.8107,  ...,  -7.5903,  -1.2593,  -2.4370],\n",
       "        [  0.6108,   0.0425,   0.4004,  ..., -18.9505,  -5.4913,  -4.0357],\n",
       "        [  0.3713,   0.6012,   0.3509,  ...,  -3.0532,  -6.2841, -10.4443]],\n",
       "       dtype=torch.float64)"
      ]
     },
     "execution_count": 39,
     "metadata": {},
     "output_type": "execute_result"
    }
   ],
   "source": [
    "# заметим, что мы сразу получаем торчовый формат данных\n",
    "x"
   ]
  },
  {
   "cell_type": "code",
   "execution_count": 40,
   "metadata": {},
   "outputs": [
    {
     "data": {
      "text/plain": [
       "tensor([1, 1, 0, 2, 0, 1, 0, 0, 1, 0, 1, 1, 0, 1, 2, 1, 1, 2, 1, 0, 2, 1, 0, 0,\n",
       "        1, 0, 0, 2, 2, 0, 0, 2, 2, 0, 1, 2, 1, 1, 0, 2, 0, 1, 1, 2, 2, 0, 2, 2,\n",
       "        0, 1, 0, 1, 2, 2, 2, 0, 2, 1, 0, 2, 1, 0, 0, 1, 2, 2, 0, 2, 2, 1, 2, 0,\n",
       "        2, 1, 2, 0, 1, 2, 2, 0, 1, 2, 2, 0, 1, 1, 0, 0, 1, 2, 0, 0, 0, 1, 0, 2,\n",
       "        1, 0, 2, 1, 0, 2, 2, 2, 0, 1, 2, 2, 2, 0, 0, 2, 2, 0, 1, 0, 2, 2, 1, 1,\n",
       "        1, 0, 1, 1, 2, 1, 0, 2], dtype=torch.int32)"
      ]
     },
     "execution_count": 40,
     "metadata": {},
     "output_type": "execute_result"
    }
   ],
   "source": [
    "y"
   ]
  },
  {
   "cell_type": "markdown",
   "metadata": {},
   "source": [
    "# Если вы ничего здесь не понимаете, то вернитесь в конец первой домашки, там все объясняется"
   ]
  },
  {
   "cell_type": "code",
   "execution_count": 43,
   "metadata": {},
   "outputs": [],
   "source": [
    "model = torch.nn.Sequential(torch.nn.Linear(32, 16),\n",
    "                            torch.nn.ReLU(),\n",
    "                            torch.nn.Linear(16, 8),\n",
    "                            torch.nn.ReLU(),\n",
    "                            torch.nn.Linear(8, 3))\n",
    "\n",
    "criterion = torch.nn.CrossEntropyLoss()"
   ]
  },
  {
   "cell_type": "code",
   "execution_count": 44,
   "metadata": {},
   "outputs": [
    {
     "ename": "RuntimeError",
     "evalue": "expected scalar type Long but found Int",
     "output_type": "error",
     "traceback": [
      "\u001b[1;31m---------------------------------------------------------------------------\u001b[0m",
      "\u001b[1;31mRuntimeError\u001b[0m                              Traceback (most recent call last)",
      "Cell \u001b[1;32mIn[44], line 5\u001b[0m\n\u001b[0;32m      1\u001b[0m \u001b[38;5;28;01mwith\u001b[39;00m torch\u001b[38;5;241m.\u001b[39mno_grad():\n\u001b[0;32m      3\u001b[0m     prediction \u001b[38;5;241m=\u001b[39m model(x\u001b[38;5;241m.\u001b[39mfloat())\n\u001b[1;32m----> 5\u001b[0m     loss \u001b[38;5;241m=\u001b[39m \u001b[43mcriterion\u001b[49m\u001b[43m(\u001b[49m\u001b[43mprediction\u001b[49m\u001b[43m,\u001b[49m\u001b[43m \u001b[49m\u001b[43my\u001b[49m\u001b[43m)\u001b[49m\n\u001b[0;32m      7\u001b[0m loss\u001b[38;5;241m.\u001b[39mitem()\n",
      "File \u001b[1;32m~\\AppData\\Local\\Programs\\Python\\Python311\\Lib\\site-packages\\torch\\nn\\modules\\module.py:1518\u001b[0m, in \u001b[0;36mModule._wrapped_call_impl\u001b[1;34m(self, *args, **kwargs)\u001b[0m\n\u001b[0;32m   1516\u001b[0m     \u001b[38;5;28;01mreturn\u001b[39;00m \u001b[38;5;28mself\u001b[39m\u001b[38;5;241m.\u001b[39m_compiled_call_impl(\u001b[38;5;241m*\u001b[39margs, \u001b[38;5;241m*\u001b[39m\u001b[38;5;241m*\u001b[39mkwargs)  \u001b[38;5;66;03m# type: ignore[misc]\u001b[39;00m\n\u001b[0;32m   1517\u001b[0m \u001b[38;5;28;01melse\u001b[39;00m:\n\u001b[1;32m-> 1518\u001b[0m     \u001b[38;5;28;01mreturn\u001b[39;00m \u001b[38;5;28;43mself\u001b[39;49m\u001b[38;5;241;43m.\u001b[39;49m\u001b[43m_call_impl\u001b[49m\u001b[43m(\u001b[49m\u001b[38;5;241;43m*\u001b[39;49m\u001b[43margs\u001b[49m\u001b[43m,\u001b[49m\u001b[43m \u001b[49m\u001b[38;5;241;43m*\u001b[39;49m\u001b[38;5;241;43m*\u001b[39;49m\u001b[43mkwargs\u001b[49m\u001b[43m)\u001b[49m\n",
      "File \u001b[1;32m~\\AppData\\Local\\Programs\\Python\\Python311\\Lib\\site-packages\\torch\\nn\\modules\\module.py:1527\u001b[0m, in \u001b[0;36mModule._call_impl\u001b[1;34m(self, *args, **kwargs)\u001b[0m\n\u001b[0;32m   1522\u001b[0m \u001b[38;5;66;03m# If we don't have any hooks, we want to skip the rest of the logic in\u001b[39;00m\n\u001b[0;32m   1523\u001b[0m \u001b[38;5;66;03m# this function, and just call forward.\u001b[39;00m\n\u001b[0;32m   1524\u001b[0m \u001b[38;5;28;01mif\u001b[39;00m \u001b[38;5;129;01mnot\u001b[39;00m (\u001b[38;5;28mself\u001b[39m\u001b[38;5;241m.\u001b[39m_backward_hooks \u001b[38;5;129;01mor\u001b[39;00m \u001b[38;5;28mself\u001b[39m\u001b[38;5;241m.\u001b[39m_backward_pre_hooks \u001b[38;5;129;01mor\u001b[39;00m \u001b[38;5;28mself\u001b[39m\u001b[38;5;241m.\u001b[39m_forward_hooks \u001b[38;5;129;01mor\u001b[39;00m \u001b[38;5;28mself\u001b[39m\u001b[38;5;241m.\u001b[39m_forward_pre_hooks\n\u001b[0;32m   1525\u001b[0m         \u001b[38;5;129;01mor\u001b[39;00m _global_backward_pre_hooks \u001b[38;5;129;01mor\u001b[39;00m _global_backward_hooks\n\u001b[0;32m   1526\u001b[0m         \u001b[38;5;129;01mor\u001b[39;00m _global_forward_hooks \u001b[38;5;129;01mor\u001b[39;00m _global_forward_pre_hooks):\n\u001b[1;32m-> 1527\u001b[0m     \u001b[38;5;28;01mreturn\u001b[39;00m \u001b[43mforward_call\u001b[49m\u001b[43m(\u001b[49m\u001b[38;5;241;43m*\u001b[39;49m\u001b[43margs\u001b[49m\u001b[43m,\u001b[49m\u001b[43m \u001b[49m\u001b[38;5;241;43m*\u001b[39;49m\u001b[38;5;241;43m*\u001b[39;49m\u001b[43mkwargs\u001b[49m\u001b[43m)\u001b[49m\n\u001b[0;32m   1529\u001b[0m \u001b[38;5;28;01mtry\u001b[39;00m:\n\u001b[0;32m   1530\u001b[0m     result \u001b[38;5;241m=\u001b[39m \u001b[38;5;28;01mNone\u001b[39;00m\n",
      "File \u001b[1;32m~\\AppData\\Local\\Programs\\Python\\Python311\\Lib\\site-packages\\torch\\nn\\modules\\loss.py:1179\u001b[0m, in \u001b[0;36mCrossEntropyLoss.forward\u001b[1;34m(self, input, target)\u001b[0m\n\u001b[0;32m   1178\u001b[0m \u001b[38;5;28;01mdef\u001b[39;00m \u001b[38;5;21mforward\u001b[39m(\u001b[38;5;28mself\u001b[39m, \u001b[38;5;28minput\u001b[39m: Tensor, target: Tensor) \u001b[38;5;241m-\u001b[39m\u001b[38;5;241m>\u001b[39m Tensor:\n\u001b[1;32m-> 1179\u001b[0m     \u001b[38;5;28;01mreturn\u001b[39;00m \u001b[43mF\u001b[49m\u001b[38;5;241;43m.\u001b[39;49m\u001b[43mcross_entropy\u001b[49m\u001b[43m(\u001b[49m\u001b[38;5;28;43minput\u001b[39;49m\u001b[43m,\u001b[49m\u001b[43m \u001b[49m\u001b[43mtarget\u001b[49m\u001b[43m,\u001b[49m\u001b[43m \u001b[49m\u001b[43mweight\u001b[49m\u001b[38;5;241;43m=\u001b[39;49m\u001b[38;5;28;43mself\u001b[39;49m\u001b[38;5;241;43m.\u001b[39;49m\u001b[43mweight\u001b[49m\u001b[43m,\u001b[49m\n\u001b[0;32m   1180\u001b[0m \u001b[43m                           \u001b[49m\u001b[43mignore_index\u001b[49m\u001b[38;5;241;43m=\u001b[39;49m\u001b[38;5;28;43mself\u001b[39;49m\u001b[38;5;241;43m.\u001b[39;49m\u001b[43mignore_index\u001b[49m\u001b[43m,\u001b[49m\u001b[43m \u001b[49m\u001b[43mreduction\u001b[49m\u001b[38;5;241;43m=\u001b[39;49m\u001b[38;5;28;43mself\u001b[39;49m\u001b[38;5;241;43m.\u001b[39;49m\u001b[43mreduction\u001b[49m\u001b[43m,\u001b[49m\n\u001b[0;32m   1181\u001b[0m \u001b[43m                           \u001b[49m\u001b[43mlabel_smoothing\u001b[49m\u001b[38;5;241;43m=\u001b[39;49m\u001b[38;5;28;43mself\u001b[39;49m\u001b[38;5;241;43m.\u001b[39;49m\u001b[43mlabel_smoothing\u001b[49m\u001b[43m)\u001b[49m\n",
      "File \u001b[1;32m~\\AppData\\Local\\Programs\\Python\\Python311\\Lib\\site-packages\\torch\\nn\\functional.py:3053\u001b[0m, in \u001b[0;36mcross_entropy\u001b[1;34m(input, target, weight, size_average, ignore_index, reduce, reduction, label_smoothing)\u001b[0m\n\u001b[0;32m   3051\u001b[0m \u001b[38;5;28;01mif\u001b[39;00m size_average \u001b[38;5;129;01mis\u001b[39;00m \u001b[38;5;129;01mnot\u001b[39;00m \u001b[38;5;28;01mNone\u001b[39;00m \u001b[38;5;129;01mor\u001b[39;00m reduce \u001b[38;5;129;01mis\u001b[39;00m \u001b[38;5;129;01mnot\u001b[39;00m \u001b[38;5;28;01mNone\u001b[39;00m:\n\u001b[0;32m   3052\u001b[0m     reduction \u001b[38;5;241m=\u001b[39m _Reduction\u001b[38;5;241m.\u001b[39mlegacy_get_string(size_average, reduce)\n\u001b[1;32m-> 3053\u001b[0m \u001b[38;5;28;01mreturn\u001b[39;00m \u001b[43mtorch\u001b[49m\u001b[38;5;241;43m.\u001b[39;49m\u001b[43m_C\u001b[49m\u001b[38;5;241;43m.\u001b[39;49m\u001b[43m_nn\u001b[49m\u001b[38;5;241;43m.\u001b[39;49m\u001b[43mcross_entropy_loss\u001b[49m\u001b[43m(\u001b[49m\u001b[38;5;28;43minput\u001b[39;49m\u001b[43m,\u001b[49m\u001b[43m \u001b[49m\u001b[43mtarget\u001b[49m\u001b[43m,\u001b[49m\u001b[43m \u001b[49m\u001b[43mweight\u001b[49m\u001b[43m,\u001b[49m\u001b[43m \u001b[49m\u001b[43m_Reduction\u001b[49m\u001b[38;5;241;43m.\u001b[39;49m\u001b[43mget_enum\u001b[49m\u001b[43m(\u001b[49m\u001b[43mreduction\u001b[49m\u001b[43m)\u001b[49m\u001b[43m,\u001b[49m\u001b[43m \u001b[49m\u001b[43mignore_index\u001b[49m\u001b[43m,\u001b[49m\u001b[43m \u001b[49m\u001b[43mlabel_smoothing\u001b[49m\u001b[43m)\u001b[49m\n",
      "\u001b[1;31mRuntimeError\u001b[0m: expected scalar type Long but found Int"
     ]
    }
   ],
   "source": [
    "with torch.no_grad():\n",
    "\n",
    "    prediction = model(x.float())\n",
    "\n",
    "    loss = criterion(prediction, y)\n",
    "    \n",
    "loss.item()"
   ]
  },
  {
   "cell_type": "markdown",
   "metadata": {},
   "source": [
    "# Боевые датасеты"
   ]
  },
  {
   "cell_type": "code",
   "execution_count": 45,
   "metadata": {},
   "outputs": [],
   "source": [
    "class CBOWDataset(Dataset):\n",
    "\n",
    "    def __init__(self,\n",
    "                 corpus,\n",
    "                 word2index,\n",
    "                 window=2,\n",
    "                 unk_token='UNK',\n",
    "                 pad_token='PAD',\n",
    "                 collect_verbose=True):\n",
    "\n",
    "        self.corpus = corpus\n",
    "        self.word2index = word2index\n",
    "        self.index2word = {value: key for key, value in self.word2index.items()}\n",
    "        self.window = window\n",
    "\n",
    "        self.unk_token = unk_token\n",
    "        self.unk_index = self.word2index[self.unk_token]\n",
    "\n",
    "        self.pad_token = pad_token\n",
    "        self.pad_index = len(self.word2index)\n",
    "\n",
    "        self.collect_verbose = collect_verbose\n",
    "\n",
    "        self.data = []\n",
    "\n",
    "        self.collect_data()\n",
    "\n",
    "    def __len__(self):\n",
    "\n",
    "        return len(self.data)\n",
    "\n",
    "    def _split_function(self, tokenized_text):\n",
    "\n",
    "        splits = []\n",
    "\n",
    "        for n in range(len(tokenized_text)):\n",
    "            left_context = tokenized_text[np.maximum(n - self.window, 0):n]\n",
    "            left_context = ([self.pad_index] * (self.window - len(left_context))) + left_context\n",
    "\n",
    "            central_word = tokenized_text[n]\n",
    "\n",
    "            right_context = tokenized_text[n + 1:n + self.window + 1]\n",
    "            right_context = right_context + ([self.pad_index] * (self.window - len(right_context)))\n",
    "\n",
    "            splits.append((left_context + right_context, central_word))\n",
    "\n",
    "        return splits\n",
    "\n",
    "    def indexing(self, tokenized_text):\n",
    "\n",
    "        return [self.word2index[token] if token in self.word2index else self.unk_index for token in tokenized_text]\n",
    "\n",
    "    def collect_data(self):\n",
    "\n",
    "        corpus = tqdm(self.corpus, disable=not self.collect_verbose)\n",
    "\n",
    "        for tokenized_text in corpus:\n",
    "            indexed_text = self.indexing(tokenized_text)\n",
    "            cbow_examples = self._split_function(indexed_text)\n",
    "\n",
    "            self.data.extend(cbow_examples)\n",
    "\n",
    "    def __getitem__(self, idx):\n",
    "\n",
    "        context, central_word = self.data[idx]\n",
    "\n",
    "        context = torch.Tensor(context).long()\n",
    "\n",
    "        return context, central_word"
   ]
  },
  {
   "cell_type": "markdown",
   "metadata": {},
   "source": [
    "# Мы будем учить модель Skipgram\n",
    "Реализуйте читалку данных"
   ]
  },
  {
   "cell_type": "code",
   "execution_count": 59,
   "metadata": {},
   "outputs": [],
   "source": [
    "class SkipgramDataset(Dataset):\n",
    "\n",
    "    def __init__(self,\n",
    "                 corpus,\n",
    "                 word2index,\n",
    "                 window=2,\n",
    "                 unk_token='UNK',\n",
    "                 collect_verbose=True):\n",
    "        self.corpus = corpus\n",
    "        self.word2index = word2index\n",
    "        self.window = window\n",
    "        \n",
    "        self.unk_token = unk_token\n",
    "        \n",
    "        self.collect_verbose = collect_verbose\n",
    "        \n",
    "        self.data = []\n",
    "        \n",
    "        self.collect_data()\n",
    "\n",
    "        pass\n",
    "\n",
    "    def __len__(self):\n",
    "\n",
    "        return len(self.data)\n",
    "\n",
    "    def _split_function(self, tokenized_text):\n",
    "        \n",
    "        # CODE\n",
    "        \n",
    "        # вставить здесь функцию, которые вы писали раньше\n",
    "        splits = skipgram_split(tokenized_text, self.window)\n",
    "\n",
    "        return splits\n",
    "\n",
    "    def indexing(self, tokenized_text):\n",
    "\n",
    "        return [self.word2index[token] if token in self.word2index else self.unk_index for token in tokenized_text]\n",
    "\n",
    "    def collect_data(self):\n",
    "\n",
    "        corpus = tqdm(self.corpus, disable=not self.collect_verbose)\n",
    "\n",
    "        for tokenized_text in corpus:\n",
    "            indexed_text = self.indexing(tokenized_text)\n",
    "            skipgram_examples = self._split_function(indexed_text)\n",
    "\n",
    "            self.data.extend(skipgram_examples)\n",
    "\n",
    "    def __getitem__(self, idx):\n",
    "        \n",
    "        # CODE\n",
    "        context, central_word = self.data[idx]\n",
    "\n",
    "\n",
    "        return context, central_word"
   ]
  },
  {
   "cell_type": "code",
   "execution_count": 57,
   "metadata": {},
   "outputs": [],
   "source": [
    "# можете положить SkipgramDataset в отдельный файлик, например word2vec_utils и относительным импортом достать его \n",
    "#from .word2vec_utils import SkipgramDataset"
   ]
  },
  {
   "cell_type": "code",
   "execution_count": 60,
   "metadata": {
    "scrolled": true
   },
   "outputs": [
    {
     "name": "stderr",
     "output_type": "stream",
     "text": [
      "100%|███████████████████████████████████████████████████████████████████████| 100000/100000 [00:01<00:00, 70100.89it/s]\n"
     ]
    }
   ],
   "source": [
    "dataset = SkipgramDataset(corpus, word2index)"
   ]
  },
  {
   "cell_type": "code",
   "execution_count": 61,
   "metadata": {},
   "outputs": [],
   "source": [
    "BATCH_SIZE = 512"
   ]
  },
  {
   "cell_type": "code",
   "execution_count": 62,
   "metadata": {},
   "outputs": [],
   "source": [
    "dataset_loader = DataLoader(dataset, shuffle=True, batch_size=BATCH_SIZE)"
   ]
  },
  {
   "cell_type": "code",
   "execution_count": 63,
   "metadata": {},
   "outputs": [],
   "source": [
    "for x, y in dataset_loader:\n",
    "    break"
   ]
  },
  {
   "cell_type": "code",
   "execution_count": 64,
   "metadata": {},
   "outputs": [
    {
     "data": {
      "text/plain": [
       "tensor([2187, 1592,   67,   32,  112])"
      ]
     },
     "execution_count": 64,
     "metadata": {},
     "output_type": "execute_result"
    }
   ],
   "source": [
    "x[:5]"
   ]
  },
  {
   "cell_type": "code",
   "execution_count": 65,
   "metadata": {},
   "outputs": [
    {
     "data": {
      "text/plain": [
       "tensor([ 458, 1114, 1364,  817,   13])"
      ]
     },
     "execution_count": 65,
     "metadata": {},
     "output_type": "execute_result"
    }
   ],
   "source": [
    "y[:5]"
   ]
  },
  {
   "cell_type": "code",
   "execution_count": 66,
   "metadata": {},
   "outputs": [
    {
     "data": {
      "text/plain": [
       "(torch.Size([512]), torch.Size([512]))"
      ]
     },
     "execution_count": 66,
     "metadata": {},
     "output_type": "execute_result"
    }
   ],
   "source": [
    "x.shape, y.shape"
   ]
  },
  {
   "cell_type": "code",
   "execution_count": 67,
   "metadata": {},
   "outputs": [],
   "source": [
    "class CBOW(torch.nn.Module):\n",
    "    \n",
    "    def __init__(self, vocab_size, embedding_dim, pad_index):\n",
    "        \n",
    "        super().__init__()\n",
    "        \n",
    "        if pad_index > 0:\n",
    "            vocab_size += 1\n",
    "        \n",
    "        self.in_embedding = torch.nn.Embedding(num_embeddings=vocab_size, \n",
    "                                               embedding_dim=embedding_dim,\n",
    "                                               padding_idx=pad_index)\n",
    "        \n",
    "        self.out_embedding = torch.nn.Linear(in_features=embedding_dim,\n",
    "                                             out_features=vocab_size, bias=False)\n",
    "        \n",
    "    def forward(self, x):\n",
    "        \n",
    "        x = self.in_embedding(x).sum(dim=-2)\n",
    "        x = self.out_embedding(x)\n",
    "        \n",
    "        return x"
   ]
  },
  {
   "cell_type": "markdown",
   "metadata": {},
   "source": [
    "# Мы будем учить модель Skipgram\n",
    "Реализуйте ее"
   ]
  },
  {
   "cell_type": "code",
   "execution_count": 85,
   "metadata": {},
   "outputs": [],
   "source": [
    "# CODE\n",
    "class SkipGram(torch.nn.Module):\n",
    "    def __init__(self, vocab_size, embedding_dim):\n",
    "        \n",
    "        super().__init__()\n",
    "        \n",
    "        self.in_embedding = torch.nn.Embedding(num_embeddings=vocab_size, \n",
    "                                               embedding_dim=embedding_dim)\n",
    "        \n",
    "        self.out_embedding = torch.nn.Linear(in_features=embedding_dim,\n",
    "                                             out_features=vocab_size, bias=False)        \n",
    "    def forward(self, x):\n",
    "        \n",
    "        x = self.in_embedding(x)\n",
    "        x = self.out_embedding(x)\n",
    "        \n",
    "        return x"
   ]
  },
  {
   "cell_type": "code",
   "execution_count": 86,
   "metadata": {},
   "outputs": [],
   "source": [
    "#from word2vec_utils import SkipGram"
   ]
  },
  {
   "cell_type": "code",
   "execution_count": 87,
   "metadata": {},
   "outputs": [],
   "source": [
    "# размерность эмбеддинга\n",
    "# маленькая, чтобы мы могли недолго поучить ворд2век и увидеть результаты\n",
    "EMBEDDING_DIM = 20"
   ]
  },
  {
   "cell_type": "code",
   "execution_count": 88,
   "metadata": {},
   "outputs": [],
   "source": [
    "model = SkipGram(vocab_size=len(word2index), embedding_dim=EMBEDDING_DIM)"
   ]
  },
  {
   "cell_type": "code",
   "execution_count": 89,
   "metadata": {},
   "outputs": [
    {
     "data": {
      "text/plain": [
       "torch.Size([512, 13076])"
      ]
     },
     "execution_count": 89,
     "metadata": {},
     "output_type": "execute_result"
    }
   ],
   "source": [
    "with torch.no_grad():\n",
    "    pred = model(x)\n",
    "\n",
    "pred.shape"
   ]
  },
  {
   "cell_type": "code",
   "execution_count": 97,
   "metadata": {},
   "outputs": [],
   "source": [
    "optimizer = torch.optim.Adam(params=model.parameters(), lr=0.0003)\n",
    "\n",
    "# aka loss function\n",
    "criterion = torch.nn.CrossEntropyLoss()"
   ]
  },
  {
   "cell_type": "markdown",
   "metadata": {},
   "source": [
    "# Допишите обучалку"
   ]
  },
  {
   "cell_type": "code",
   "execution_count": 98,
   "metadata": {},
   "outputs": [
    {
     "name": "stderr",
     "output_type": "stream",
     "text": [
      "Epoch 1: 100%|██████████████████████████████████████████████████| 2983124/2983124 [09:20<00:00, 5323.46it/s, loss=7.23]\n",
      "Epoch 2: 100%|██████████████████████████████████████████████████| 2983124/2983124 [10:49<00:00, 4595.78it/s, loss=7.09]\n",
      "Epoch 3: 100%|██████████████████████████████████████████████████| 2983124/2983124 [10:44<00:00, 4631.03it/s, loss=7.02]\n"
     ]
    }
   ],
   "source": [
    "epochs = 3\n",
    "\n",
    "losses = []\n",
    "\n",
    "for n_epoch in range(epochs):\n",
    "\n",
    "    try:\n",
    "\n",
    "        progress_bar = tqdm(total=len(dataset_loader.dataset), desc='Epoch {}'.format(n_epoch + 1))\n",
    "\n",
    "        for x, y in dataset_loader:\n",
    "\n",
    "            # CODE\n",
    "            optimizer.zero_grad()\n",
    "            pred = model(x)\n",
    "\n",
    "            loss = criterion(pred, y)\n",
    "            \n",
    "            # CODE\n",
    "            loss.backward()\n",
    "            optimizer.step()\n",
    "            losses.append(loss.item())\n",
    "            \n",
    "            progress_bar.set_postfix(loss=np.mean(losses[-100:]))\n",
    "\n",
    "            progress_bar.update(x.shape[0])\n",
    "\n",
    "        progress_bar.close()\n",
    "\n",
    "    except KeyboardInterrupt:\n",
    "\n",
    "        progress_bar.close()\n",
    "        break"
   ]
  },
  {
   "cell_type": "code",
   "execution_count": 99,
   "metadata": {},
   "outputs": [
    {
     "data": {
      "text/plain": [
       "[<matplotlib.lines.Line2D at 0x23dcb839210>]"
      ]
     },
     "execution_count": 99,
     "metadata": {},
     "output_type": "execute_result"
    },
    {
     "data": {
      "image/png": "[encoded data removed]",
      "text/plain": [
       "<Figure size 1500x1500 with 1 Axes>"
      ]
     },
     "metadata": {},
     "output_type": "display_data"
    }
   ],
   "source": [
    "plt.title('SkipGram Training Process')\n",
    "plt.xlabel('Itearations')\n",
    "plt.ylabel('Loss')\n",
    "plt.grid()\n",
    "plt.plot(losses)"
   ]
  },
  {
   "cell_type": "code",
   "execution_count": 100,
   "metadata": {},
   "outputs": [],
   "source": [
    "# проверка, что хоть что-то выучилось\n",
    "assert np.mean(losses[-1000:]) < 7.5"
   ]
  },
  {
   "cell_type": "code",
   "execution_count": 101,
   "metadata": {},
   "outputs": [],
   "source": [
    "embedding_matrix = model.in_embedding.weight.detach()"
   ]
  },
  {
   "cell_type": "code",
   "execution_count": 102,
   "metadata": {},
   "outputs": [],
   "source": [
    "def cos_sim(embedding_matrix, token2id, word1, word2):\n",
    "    \n",
    "    i1 = token2id[word1]\n",
    "    i2 = token2id[word2]\n",
    "    \n",
    "    v1, v2 = embedding_matrix[i1], embedding_matrix[i2]\n",
    "    \n",
    "    v1_n = v1.div(v1.norm(keepdim=True))\n",
    "    v2_n = v2.div(v2.norm(keepdim=True))\n",
    "    \n",
    "    similarity = torch.dot(v1_n, v2_n).item()\n",
    "    \n",
    "    return similarity"
   ]
  },
  {
   "cell_type": "markdown",
   "metadata": {},
   "source": [
    "# Косинусная близость\n",
    "От 0 до 1, где 0 - вектора абсолютно разные, где 1 - идентичные."
   ]
  },
  {
   "cell_type": "code",
   "execution_count": 104,
   "metadata": {},
   "outputs": [
    {
     "data": {
      "text/plain": [
       "0.5134203433990479"
      ]
     },
     "execution_count": 104,
     "metadata": {},
     "output_type": "execute_result"
    }
   ],
   "source": [
    "cos_sim(embedding_matrix, word2index, 'день', 'месяц')"
   ]
  },
  {
   "cell_type": "code",
   "execution_count": 105,
   "metadata": {},
   "outputs": [
    {
     "data": {
      "text/plain": [
       "0.40426892042160034"
      ]
     },
     "execution_count": 105,
     "metadata": {},
     "output_type": "execute_result"
    }
   ],
   "source": [
    "cos_sim(embedding_matrix, word2index, 'минута', 'месяц')"
   ]
  },
  {
   "cell_type": "code",
   "execution_count": 106,
   "metadata": {},
   "outputs": [
    {
     "data": {
      "text/plain": [
       "0.5276466012001038"
      ]
     },
     "execution_count": 106,
     "metadata": {},
     "output_type": "execute_result"
    }
   ],
   "source": [
    "cos_sim(embedding_matrix, word2index, 'сотрудник', 'сотрудница')"
   ]
  },
  {
   "cell_type": "code",
   "execution_count": 107,
   "metadata": {},
   "outputs": [
    {
     "data": {
      "text/plain": [
       "0.4934774935245514"
      ]
     },
     "execution_count": 107,
     "metadata": {},
     "output_type": "execute_result"
    }
   ],
   "source": [
    "cos_sim(embedding_matrix, word2index, 'вклад', 'перевод')"
   ]
  },
  {
   "cell_type": "code",
   "execution_count": 108,
   "metadata": {},
   "outputs": [
    {
     "data": {
      "text/plain": [
       "'Косинусная близость слова \"день\" к случайному выбраному слову \"действительный\" равна 0.125'"
      ]
     },
     "execution_count": 108,
     "metadata": {},
     "output_type": "execute_result"
    }
   ],
   "source": [
    "random_word = random.choice(list(word2index.keys()))\n",
    "sim = cos_sim(embedding_matrix, word2index, 'день', random_word)\n",
    "'Косинусная близость слова \"день\" к случайному выбраному слову \"{}\" равна {:.3f}'.format(random_word, sim)"
   ]
  },
  {
   "cell_type": "code",
   "execution_count": 109,
   "metadata": {},
   "outputs": [],
   "source": [
    "freq = {}\n",
    "\n",
    "for text in corpus:\n",
    "    for token in text:\n",
    "        if token in freq:\n",
    "            freq[token] += 1\n",
    "        else:\n",
    "            freq[token] = 1"
   ]
  },
  {
   "cell_type": "code",
   "execution_count": 110,
   "metadata": {},
   "outputs": [],
   "source": [
    "sorted_freq = [(k, freq[k]) for k in sorted(freq, key=freq.get, reverse=True)]\n",
    "top_sorted_freq = sorted_freq[0:200]"
   ]
  },
  {
   "cell_type": "code",
   "execution_count": 111,
   "metadata": {},
   "outputs": [
    {
     "name": "stdout",
     "output_type": "stream",
     "text": [
      "[t-SNE] Computing 91 nearest neighbors...\n",
      "[t-SNE] Indexed 13076 samples in 0.001s...\n",
      "[t-SNE] Computed neighbors for 13076 samples in 1.001s...\n",
      "[t-SNE] Computed conditional probabilities for sample 1000 / 13076\n",
      "[t-SNE] Computed conditional probabilities for sample 2000 / 13076\n",
      "[t-SNE] Computed conditional probabilities for sample 3000 / 13076\n",
      "[t-SNE] Computed conditional probabilities for sample 4000 / 13076\n",
      "[t-SNE] Computed conditional probabilities for sample 5000 / 13076\n",
      "[t-SNE] Computed conditional probabilities for sample 6000 / 13076\n",
      "[t-SNE] Computed conditional probabilities for sample 7000 / 13076\n",
      "[t-SNE] Computed conditional probabilities for sample 8000 / 13076\n",
      "[t-SNE] Computed conditional probabilities for sample 9000 / 13076\n",
      "[t-SNE] Computed conditional probabilities for sample 10000 / 13076\n",
      "[t-SNE] Computed conditional probabilities for sample 11000 / 13076\n",
      "[t-SNE] Computed conditional probabilities for sample 12000 / 13076\n",
      "[t-SNE] Computed conditional probabilities for sample 13000 / 13076\n",
      "[t-SNE] Computed conditional probabilities for sample 13076 / 13076\n",
      "[t-SNE] Mean sigma: 1.190978\n",
      "[t-SNE] Computed conditional probabilities in 0.647s\n",
      "[t-SNE] Iteration 50: error = 98.7486725, gradient norm = 0.0000000 (50 iterations in 7.036s)\n",
      "[t-SNE] Iteration 50: gradient norm 0.000000. Finished.\n",
      "[t-SNE] KL divergence after 50 iterations with early exaggeration: 98.748672\n",
      "[t-SNE] Iteration 100: error = 5.6979141, gradient norm = 0.0399088 (50 iterations in 7.064s)\n",
      "[t-SNE] Iteration 150: error = 4.9005322, gradient norm = 0.0044019 (50 iterations in 6.009s)\n",
      "[t-SNE] Iteration 200: error = 4.8017011, gradient norm = 0.0050019 (50 iterations in 5.961s)\n",
      "[t-SNE] Iteration 250: error = 4.7236190, gradient norm = 0.0050989 (50 iterations in 5.812s)\n",
      "[t-SNE] Iteration 300: error = 4.6629114, gradient norm = 0.0051259 (50 iterations in 5.758s)\n",
      "[t-SNE] Iteration 350: error = 4.6147928, gradient norm = 0.0051593 (50 iterations in 5.525s)\n",
      "[t-SNE] Iteration 400: error = 4.5754952, gradient norm = 0.0051096 (50 iterations in 5.675s)\n",
      "[t-SNE] Iteration 450: error = 4.5434361, gradient norm = 0.0049076 (50 iterations in 5.909s)\n",
      "[t-SNE] Iteration 500: error = 4.5169945, gradient norm = 0.0047081 (50 iterations in 5.751s)\n",
      "[t-SNE] Iteration 550: error = 4.4953156, gradient norm = 0.0045145 (50 iterations in 5.791s)\n",
      "[t-SNE] Iteration 600: error = 4.4771299, gradient norm = 0.0042531 (50 iterations in 5.917s)\n",
      "[t-SNE] Iteration 650: error = 4.4616160, gradient norm = 0.0040535 (50 iterations in 5.901s)\n",
      "[t-SNE] Iteration 700: error = 4.4482908, gradient norm = 0.0038209 (50 iterations in 5.807s)\n",
      "[t-SNE] Iteration 750: error = 4.4370298, gradient norm = 0.0035950 (50 iterations in 5.652s)\n",
      "[t-SNE] Iteration 800: error = 4.4275761, gradient norm = 0.0032238 (50 iterations in 5.815s)\n",
      "[t-SNE] Iteration 850: error = 4.4194808, gradient norm = 0.0030609 (50 iterations in 5.767s)\n",
      "[t-SNE] Iteration 900: error = 4.4124751, gradient norm = 0.0028808 (50 iterations in 5.883s)\n",
      "[t-SNE] Iteration 950: error = 4.4063234, gradient norm = 0.0026540 (50 iterations in 5.883s)\n",
      "[t-SNE] Iteration 1000: error = 4.4010320, gradient norm = 0.0024541 (50 iterations in 5.660s)\n",
      "[t-SNE] KL divergence after 1000 iterations: 4.401032\n"
     ]
    }
   ],
   "source": [
    "tsne = TSNE(n_components=2, init='pca', random_state=42, verbose=2)\n",
    "reduced = tsne.fit_transform(embedding_matrix)"
   ]
  },
  {
   "cell_type": "code",
   "execution_count": 113,
   "metadata": {},
   "outputs": [],
   "source": [
    "top_words = [a for a,_ in top_sorted_freq]"
   ]
  },
  {
   "cell_type": "code",
   "execution_count": 114,
   "metadata": {},
   "outputs": [],
   "source": [
    "inds = [word2index[word] for word in top_words]\n",
    "x_coords = [coords[0] for coords in reduced[inds]]\n",
    "y_coords = [coords[1] for coords in reduced[inds]]"
   ]
  },
  {
   "cell_type": "code",
   "execution_count": 115,
   "metadata": {},
   "outputs": [
    {
     "data": {
      "image/png": "[encoded data removed]",
      "text/plain": [
       "<Figure size 1500x1500 with 1 Axes>"
      ]
     },
     "metadata": {},
     "output_type": "display_data"
    }
   ],
   "source": [
    "for (x, y, word) in zip(x_coords, y_coords, top_words):\n",
    "    plt.scatter(x, y, marker='.', color='blue')\n",
    "    plt.text(x+0.01, y+0.01, word, fontsize=9)\n",
    "plt.show()"
   ]
  },
  {
   "cell_type": "code",
   "execution_count": null,
   "metadata": {},
   "outputs": [],
   "source": []
  },
  {
   "cell_type": "markdown",
   "metadata": {
    "collapsed": false,
    "jupyter": {
     "outputs_hidden": false
    }
   },
   "source": [
    "# Оценка\n",
    "1. Вы добрались сюда и все работает, значит уже получили 7 баллов.\n",
    "2. 8 баллов - Взяли корпус для оценка качества эмбеддингов [здесь](https://rusvectores.org/static/testsets/ru_simlex965_tagged.tsv). Описание к нему [здесь](https://arxiv.org/pdf/1801.06407.pdf). Его английская версия для понимания, того что же это такое [тут](https://fh295.github.io/simlex.html). Если в кратце - он похож а гугл аналогии, просто иначе составлен. Определили качество своих эмбеддингов. Как качество измерить? Можете все значения отнормировать (привести к 1) и затем считать MSE между тем что у вас и что в оригинале.\n",
    "3. 9 баллов - Поставили эксперименты, поменяли любые параметры, хоть корпус увеличили или как то почистили. Показали метрики до и после. После должно быть лучше, иначе это все еще 8 баллов.\n",
    "4. 10 баллов - удивили своим подходом (или просто удивили) пока делили на 9 баллов"
   ]
  },
  {
   "cell_type": "code",
   "execution_count": null,
   "metadata": {
    "collapsed": false,
    "jupyter": {
     "outputs_hidden": false
    },
    "pycharm": {
     "name": "#%%\n"
    }
   },
   "outputs": [],
   "source": []
  }
 ],
 "metadata": {
  "kernelspec": {
   "display_name": "Python 3 (ipykernel)",
   "language": "python",
   "name": "python3"
  },
  "language_info": {
   "codemirror_mode": {
    "name": "ipython",
    "version": 3
   },
   "file_extension": ".py",
   "mimetype": "text/x-python",
   "name": "python",
   "nbconvert_exporter": "python",
   "pygments_lexer": "ipython3",
   "version": "3.11.4"
  }
 },
 "nbformat": 4,
 "nbformat_minor": 4
}
